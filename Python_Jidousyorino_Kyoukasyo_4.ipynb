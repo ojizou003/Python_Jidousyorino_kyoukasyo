{
 "cells": [
  {
   "cell_type": "markdown",
   "metadata": {},
   "source": [
    "# 「シゴトがはかどる Python 自動処理の教科書」 クジラ飛行机 著 (つづき)\n"
   ]
  },
  {
   "cell_type": "markdown",
   "metadata": {},
   "source": [
    "## メールや LINE／SNS を自動化しよう\n"
   ]
  },
  {
   "cell_type": "markdown",
   "metadata": {},
   "source": [
    "**メールを自動送信(Gmail,Yahoo!メール,Outlook.com)**\n"
   ]
  },
  {
   "cell_type": "code",
   "execution_count": null,
   "metadata": {},
   "outputs": [],
   "source": [
    "# my_gmail_account.py\n",
    "account = \"???????????@gmail.com\"\n",
    "password = \"??????????\""
   ]
  },
  {
   "cell_type": "code",
   "execution_count": null,
   "metadata": {},
   "outputs": [],
   "source": [
    "import smtplib, ssl\n",
    "from email.mime.text import MIMEText\n",
    "\n",
    "# import my_gmail_account as gmail\n",
    "\n",
    "\n",
    "# メイン処理\n",
    "def send_test_email():\n",
    "    msg = make_mime_text(\n",
    "        mail_to=account, subject=\"メールの送信テスト\", body=\"こんにちは。届きましたか？テスト。テスト。\"\n",
    "    )\n",
    "    send_gmail(msg)\n",
    "\n",
    "\n",
    "# メールデータ(MIME)を生成\n",
    "def make_mime_text(mail_to, subject, body):\n",
    "    msg = MIMEText(body, \"html\")\n",
    "    msg[\"subject\"] = subject\n",
    "    msg[\"To\"] = mail_to\n",
    "    msg[\"from\"] = account\n",
    "    return msg\n",
    "\n",
    "\n",
    "# Gmailに接続\n",
    "def send_gmail(msg):\n",
    "    server = smtplib.SMTP_SSL(\n",
    "        \"smtp.gmail.com\", 465, context=ssl.create_default_context()\n",
    "    )\n",
    "    server.set_debuglevel(0)\n",
    "    server.login(account, password)\n",
    "    server.send_message(msg)\n",
    "\n",
    "\n",
    "if __name__ == \"__main__\":\n",
    "    send_test_email()\n",
    "    print(\"ok.\")"
   ]
  },
  {
   "cell_type": "markdown",
   "metadata": {},
   "source": [
    "**Outlook.com の場合**\n"
   ]
  },
  {
   "cell_type": "code",
   "execution_count": 14,
   "metadata": {},
   "outputs": [
    {
     "name": "stdout",
     "output_type": "stream",
     "text": [
      "ok.\n"
     ]
    }
   ],
   "source": [
    "import smtplib\n",
    "from email.mime.text import MIMEText\n",
    "\n",
    "account = \"??????????@outlook.com\"\n",
    "password = \"??????????\"\n",
    "\n",
    "\n",
    "# メイン処理\n",
    "def send_test_email():\n",
    "    msg = make_mime_text(\n",
    "        mail_to=account, subject=\"メールの送信テスト\", body=\"こんにちは。届きましたか？テスト。テスト。\"\n",
    "    )\n",
    "    send_outlookmail(msg)\n",
    "\n",
    "\n",
    "# メールデータ(MIME)を生成\n",
    "def make_mime_text(mail_to, subject, body):\n",
    "    msg = MIMEText(body, \"plain\")\n",
    "    msg[\"subject\"] = subject\n",
    "    msg[\"To\"] = mail_to\n",
    "    msg[\"from\"] = account\n",
    "    return msg\n",
    "\n",
    "\n",
    "# Outlookのサーバーに接続\n",
    "def send_outlookmail(msg):\n",
    "    server = smtplib.SMTP(\"smtp.office365.com\", 587)\n",
    "    server.ehlo()\n",
    "    server.starttls()\n",
    "    server.ehlo()\n",
    "    server.login(account, password)\n",
    "    server.send_message(msg)\n",
    "\n",
    "\n",
    "if __name__ == \"__main__\":\n",
    "    send_test_email()\n",
    "    print(\"ok.\")"
   ]
  },
  {
   "cell_type": "markdown",
   "metadata": {},
   "source": [
    "**LINE を自動送信しよう**\n"
   ]
  },
  {
   "cell_type": "code",
   "execution_count": 17,
   "metadata": {},
   "outputs": [
    {
     "name": "stdout",
     "output_type": "stream",
     "text": [
      "ok!\n"
     ]
    }
   ],
   "source": [
    "import requests\n",
    "\n",
    "acc_token = \"????????????????????????\"\n",
    "\n",
    "\n",
    "def send_line(msg):\n",
    "    url = \"https://notify-api.line.me/api/notify\"\n",
    "    headers = {\"Authorization\": \"Bearer \" + acc_token}\n",
    "    payload = {\"message\": msg}\n",
    "    requests.post(url, headers=headers, params=payload)\n",
    "\n",
    "\n",
    "if __name__ == \"__main__\":\n",
    "    send_line(\"Pythonからこんにちは\")\n",
    "    print(\"ok!\")"
   ]
  },
  {
   "cell_type": "markdown",
   "metadata": {},
   "source": [
    "**タスクスケジューラで定期処理を自動実行**\n"
   ]
  },
  {
   "cell_type": "code",
   "execution_count": 21,
   "metadata": {},
   "outputs": [],
   "source": [
    "# get_tenki.py\n",
    "import requests\n",
    "\n",
    "save_file = \"chap5/天気.txt\"\n",
    "api_url = \"https://api.aoikujira.com/tenki/week.php?fmt=ini&city=319\"\n",
    "tenki = requests.get(api_url).text\n",
    "\n",
    "with open(save_file, \"wt\", encoding=\"utf-8\") as f:\n",
    "    f.write(tenki)"
   ]
  },
  {
   "cell_type": "markdown",
   "metadata": {},
   "source": [
    "バッチファイルを作って登録する方法\n"
   ]
  },
  {
   "cell_type": "markdown",
   "metadata": {},
   "source": [
    "## 業務で役立つ自動化テクニック集\n"
   ]
  },
  {
   "cell_type": "markdown",
   "metadata": {},
   "source": [
    "**社内で使える簡易 Web サーバー**\n"
   ]
  },
  {
   "cell_type": "code",
   "execution_count": null,
   "metadata": {},
   "outputs": [],
   "source": [
    "from flask import Flask\n",
    "\n",
    "app = Flask(__name__)  # flaskオブジェクトを生成\n",
    "\n",
    "\n",
    "# / へアクセスがあった場合の処理\n",
    "@app.route(\"/\")\n",
    "def roote():\n",
    "    return \"Hello!\"\n",
    "\n",
    "\n",
    "# /testへアクセスがあった場合の処理\n",
    "@app.route(\"/test\")\n",
    "def test():\n",
    "    return \"Test...\"\n",
    "\n",
    "\n",
    "if __name__ == \"__main__\":\n",
    "    app.run(debug=True, host=\"0.0.0.0\", port=5000)"
   ]
  },
  {
   "cell_type": "code",
   "execution_count": null,
   "metadata": {},
   "outputs": [],
   "source": [
    "# share.py\n",
    "from flask import Flask\n",
    "import glob\n",
    "\n",
    "app = Flask(__name__)\n",
    "\n",
    "\n",
    "@app.route(\"/\")\n",
    "def roote():\n",
    "    files = glob.glob(\"static/*\")\n",
    "    html = '<html><meta charset=\"utf-8\"><body>'\n",
    "    html += \"<h1>ファイル一覧</h1>\"\n",
    "    for f in files:\n",
    "        html += '<P><a href=\"{0}\">{0}</a></p>'.format(f)\n",
    "    html += \"</body></html>\"\n",
    "    return html\n",
    "\n",
    "\n",
    "if __name__ == \"__main__\":\n",
    "    app.run(debug=True, host=\"0.0.0.0\", port=5000)"
   ]
  },
  {
   "cell_type": "markdown",
   "metadata": {},
   "source": [
    "簡単な正規表現で基本に慣れよう"
   ]
  },
  {
   "cell_type": "code",
   "execution_count": 1,
   "metadata": {},
   "outputs": [
    {
     "name": "stdout",
     "output_type": "stream",
     "text": [
      "['app', 'art']\n"
     ]
    }
   ],
   "source": [
    "import re\n",
    "\n",
    "target = r'app dog art pot'\n",
    "pattern = r'a..'\n",
    "a = re.findall(pattern, target)\n",
    "print(a)"
   ]
  },
  {
   "cell_type": "markdown",
   "metadata": {},
   "source": [
    "英和辞書から正規表現で英単語を抽出しよう"
   ]
  },
  {
   "cell_type": "code",
   "execution_count": 2,
   "metadata": {},
   "outputs": [
    {
     "name": "stdout",
     "output_type": "stream",
     "text": [
      "正規表現を入力してください。[q]で終了。\n"
     ]
    }
   ],
   "source": [
    "import re\n",
    "\n",
    "dict_file = './ejcict-hand-utf8.txt'\n",
    "\n",
    "while True:\n",
    "    print('正規表現を入力してください。[q]で終了。')\n",
    "    re_str = input()\n",
    "    if re_str == '':\n",
    "        continue\n",
    "    if re_str == 'q':\n",
    "        break\n",
    "    with open(dict_file, 'rt', encoding='utf-8') as f:\n",
    "        cont = 0\n",
    "        while True:\n",
    "            line = f.readline() #1行だけ読む\n",
    "            if not line :\n",
    "                break\n",
    "            word, mean = line.split('\\t')\n",
    "            if re.search(re_str, word):\n",
    "                print(word)\n",
    "                cnt += 1\n",
    "                if cnt > 50: #最大50件\n",
    "                    break"
   ]
  },
  {
   "cell_type": "markdown",
   "metadata": {},
   "source": [
    "正規表現を用いて郵便番号を取り出してみよう"
   ]
  },
  {
   "cell_type": "code",
   "execution_count": 2,
   "metadata": {},
   "outputs": [
    {
     "name": "stdout",
     "output_type": "stream",
     "text": [
      "['〒231-0012', '〒120-0015']\n"
     ]
    }
   ],
   "source": [
    "import re\n",
    "\n",
    "with open('chap6/address.txt', 'rt', encoding='utf-8') as f:\n",
    "    text = f.read()\n",
    "    a = re.findall(r'〒\\d{3}-\\d{4}',text)\n",
    "    print(a)"
   ]
  },
  {
   "cell_type": "code",
   "execution_count": 3,
   "metadata": {},
   "outputs": [
    {
     "name": "stdout",
     "output_type": "stream",
     "text": [
      "---\n",
      "場所: (0, 9)\n",
      "全体: 〒231-0012\n",
      "前半: 231\n",
      "後半: 0012\n",
      "---\n",
      "場所: (35, 44)\n",
      "全体: 〒120-0015\n",
      "前半: 120\n",
      "後半: 0015\n"
     ]
    }
   ],
   "source": [
    "import re\n",
    "\n",
    "with open('chap6/address.txt', 'rt', encoding='utf-8') as f:\n",
    "    text = f.read()\n",
    "    pattern = r'〒(\\d{3})-(\\d{4})'\n",
    "    for m in re.finditer(pattern, text):\n",
    "        print('---')\n",
    "        print('場所:', m.span())\n",
    "        print('全体:', m.group(0))\n",
    "        print('前半:', m.group(1))\n",
    "        print('後半:', m.group(2))"
   ]
  },
  {
   "cell_type": "markdown",
   "metadata": {},
   "source": [
    "電話番号形式を変更する --置換"
   ]
  },
  {
   "cell_type": "code",
   "execution_count": 19,
   "metadata": {},
   "outputs": [
    {
     "name": "stdout",
     "output_type": "stream",
     "text": [
      "[電話](000) 1111 - 2222\n"
     ]
    }
   ],
   "source": [
    "import re\n",
    "# 対象文字列\n",
    "tel = r'[電話]000-1111-2222'\n",
    "# 検索パターン\n",
    "pattern = r'(\\d+)-(\\d+)-(\\d+)'\n",
    "# 置換後\n",
    "rep = r'(\\1) \\2 - \\3'\n",
    "print(re.sub(pattern, rep, tel))"
   ]
  },
  {
   "cell_type": "markdown",
   "metadata": {},
   "source": [
    "**マウス・キーボードの自動化**"
   ]
  },
  {
   "cell_type": "markdown",
   "metadata": {},
   "source": [
    "PyAutoGUIのインストール"
   ]
  },
  {
   "cell_type": "code",
   "execution_count": 21,
   "metadata": {},
   "outputs": [
    {
     "name": "stdout",
     "output_type": "stream",
     "text": [
      "Collecting pyautoguiNote: you may need to restart the kernel to use updated packages.\n",
      "\n",
      "  Downloading PyAutoGUI-0.9.54.tar.gz (61 kB)\n",
      "     ---------------------------------------- 0.0/61.2 kB ? eta -:--:--\n",
      "     ------------ ------------------------- 20.5/61.2 kB 640.0 kB/s eta 0:00:01\n",
      "     ------------------------------- ------ 51.2/61.2 kB 650.2 kB/s eta 0:00:01\n",
      "     -------------------------------------- 61.2/61.2 kB 463.6 kB/s eta 0:00:00\n",
      "  Installing build dependencies: started\n",
      "  Installing build dependencies: finished with status 'done'\n",
      "  Getting requirements to build wheel: started\n",
      "  Getting requirements to build wheel: finished with status 'done'\n",
      "  Preparing metadata (pyproject.toml): started\n",
      "  Preparing metadata (pyproject.toml): finished with status 'done'\n",
      "Collecting pymsgbox (from pyautogui)\n",
      "  Downloading PyMsgBox-1.0.9.tar.gz (18 kB)\n",
      "  Installing build dependencies: started\n",
      "  Installing build dependencies: finished with status 'done'\n",
      "  Getting requirements to build wheel: started\n",
      "  Getting requirements to build wheel: finished with status 'done'\n",
      "  Preparing metadata (pyproject.toml): started\n",
      "  Preparing metadata (pyproject.toml): finished with status 'done'\n",
      "Collecting pytweening>=1.0.4 (from pyautogui)\n",
      "  Downloading pytweening-1.0.7.tar.gz (168 kB)\n",
      "     ---------------------------------------- 0.0/168.2 kB ? eta -:--:--\n",
      "     -------------------------------------- 168.2/168.2 kB 5.1 MB/s eta 0:00:00\n",
      "  Preparing metadata (setup.py): started\n",
      "  Preparing metadata (setup.py): finished with status 'done'\n",
      "Collecting pyscreeze>=0.1.21 (from pyautogui)\n",
      "  Downloading PyScreeze-0.1.29.tar.gz (25 kB)\n",
      "  Installing build dependencies: started\n",
      "  Installing build dependencies: finished with status 'done'\n",
      "  Getting requirements to build wheel: started\n",
      "  Getting requirements to build wheel: finished with status 'done'\n",
      "  Preparing metadata (pyproject.toml): started\n",
      "  Preparing metadata (pyproject.toml): finished with status 'done'\n",
      "Collecting pygetwindow>=0.0.5 (from pyautogui)\n",
      "  Downloading PyGetWindow-0.0.9.tar.gz (9.7 kB)\n",
      "  Preparing metadata (setup.py): started\n",
      "  Preparing metadata (setup.py): finished with status 'done'\n",
      "Collecting mouseinfo (from pyautogui)\n",
      "  Downloading MouseInfo-0.1.3.tar.gz (10 kB)\n",
      "  Preparing metadata (setup.py): started\n",
      "  Preparing metadata (setup.py): finished with status 'done'\n",
      "Collecting pyrect (from pygetwindow>=0.0.5->pyautogui)\n",
      "  Downloading PyRect-0.2.0.tar.gz (17 kB)\n",
      "  Preparing metadata (setup.py): started\n",
      "  Preparing metadata (setup.py): finished with status 'done'\n",
      "Collecting pyscreenshot (from pyscreeze>=0.1.21->pyautogui)\n",
      "  Downloading pyscreenshot-3.1-py3-none-any.whl (28 kB)\n",
      "Collecting Pillow>=9.3.0 (from pyscreeze>=0.1.21->pyautogui)\n",
      "  Downloading Pillow-10.1.0-cp311-cp311-win_amd64.whl.metadata (9.6 kB)\n",
      "Collecting pyperclip (from mouseinfo->pyautogui)\n",
      "  Downloading pyperclip-1.8.2.tar.gz (20 kB)\n",
      "  Preparing metadata (setup.py): started\n",
      "  Preparing metadata (setup.py): finished with status 'done'\n",
      "Collecting EasyProcess (from pyscreenshot->pyscreeze>=0.1.21->pyautogui)\n",
      "  Downloading EasyProcess-1.1-py3-none-any.whl (8.7 kB)\n",
      "Collecting entrypoint2 (from pyscreenshot->pyscreeze>=0.1.21->pyautogui)\n",
      "  Downloading entrypoint2-1.1-py2.py3-none-any.whl (9.9 kB)\n",
      "Collecting mss (from pyscreenshot->pyscreeze>=0.1.21->pyautogui)\n",
      "  Downloading mss-9.0.1-py3-none-any.whl (22 kB)\n",
      "Downloading Pillow-10.1.0-cp311-cp311-win_amd64.whl (2.6 MB)\n",
      "   ---------------------------------------- 0.0/2.6 MB ? eta -:--:--\n",
      "   ---- ----------------------------------- 0.3/2.6 MB 8.6 MB/s eta 0:00:01\n",
      "   -------- ------------------------------- 0.5/2.6 MB 6.6 MB/s eta 0:00:01\n",
      "   ------------ --------------------------- 0.8/2.6 MB 6.2 MB/s eta 0:00:01\n",
      "   ----------------- ---------------------- 1.1/2.6 MB 6.5 MB/s eta 0:00:01\n",
      "   ---------------------- ----------------- 1.5/2.6 MB 6.6 MB/s eta 0:00:01\n",
      "   ------------------------- -------------- 1.7/2.6 MB 6.7 MB/s eta 0:00:01\n",
      "   --------------------------- ------------ 1.8/2.6 MB 5.7 MB/s eta 0:00:01\n",
      "   -------------------------------- ------- 2.1/2.6 MB 5.8 MB/s eta 0:00:01\n",
      "   ------------------------------------ --- 2.4/2.6 MB 5.8 MB/s eta 0:00:01\n",
      "   ---------------------------------------  2.6/2.6 MB 5.7 MB/s eta 0:00:01\n",
      "   ---------------------------------------  2.6/2.6 MB 5.7 MB/s eta 0:00:01\n",
      "   ---------------------------------------- 2.6/2.6 MB 4.9 MB/s eta 0:00:00\n",
      "Building wheels for collected packages: pyautogui, pygetwindow, pyscreeze, pytweening, mouseinfo, pymsgbox, pyperclip, pyrect\n",
      "  Building wheel for pyautogui (pyproject.toml): started\n",
      "  Building wheel for pyautogui (pyproject.toml): finished with status 'done'\n",
      "  Created wheel for pyautogui: filename=PyAutoGUI-0.9.54-py3-none-any.whl size=37597 sha256=9405a108092c2014ede73431e049b90d8f4489b92150b3b70e88e95ac2d259ce\n",
      "  Stored in directory: c:\\users\\sinis\\appdata\\local\\pip\\cache\\wheels\\95\\dc\\b1\\fe122b791e0db8bf439a0e6e1d2628e48f10bf430cae13521b\n",
      "  Building wheel for pygetwindow (setup.py): started\n",
      "  Building wheel for pygetwindow (setup.py): finished with status 'done'\n",
      "  Created wheel for pygetwindow: filename=PyGetWindow-0.0.9-py3-none-any.whl size=11081 sha256=08bd11b85c790bde154d816850400d96e74d2fbb5a3fffb994eef893a13be02b\n",
      "  Stored in directory: c:\\users\\sinis\\appdata\\local\\pip\\cache\\wheels\\07\\75\\0b\\7ca0b598eb4c21d43ba4bcc78a0538dfcf803a5997da33bc19\n",
      "  Building wheel for pyscreeze (pyproject.toml): started\n",
      "  Building wheel for pyscreeze (pyproject.toml): finished with status 'done'\n",
      "  Created wheel for pyscreeze: filename=PyScreeze-0.1.29-py3-none-any.whl size=13484 sha256=e9ed9c1a991d25af7c7d566bcf0a7e7afceaf57b68a6fde246b5c2a4192fcfa6\n",
      "  Stored in directory: c:\\users\\sinis\\appdata\\local\\pip\\cache\\wheels\\d3\\bd\\06\\4b4c57f65e89d1ab7a63a924c12aca4784cd95e74940371b5e\n",
      "  Building wheel for pytweening (setup.py): started\n",
      "  Building wheel for pytweening (setup.py): finished with status 'done'\n",
      "  Created wheel for pytweening: filename=pytweening-1.0.7-py3-none-any.whl size=6213 sha256=05cc8a99b1892c4bdd9f202bc0852ff989adea0eb824b755965404bc6c0fd796\n",
      "  Stored in directory: c:\\users\\sinis\\appdata\\local\\pip\\cache\\wheels\\b2\\9b\\02\\059beba389e7e31a635bd9e8d9b7299f4ec11caca1f237f56d\n",
      "  Building wheel for mouseinfo (setup.py): started\n",
      "  Building wheel for mouseinfo (setup.py): finished with status 'done'\n",
      "  Created wheel for mouseinfo: filename=MouseInfo-0.1.3-py3-none-any.whl size=10903 sha256=5f3785a29f88b550e06fca44029664075e9ae3154bd1a5adcc1d32ba0c22f793\n",
      "  Stored in directory: c:\\users\\sinis\\appdata\\local\\pip\\cache\\wheels\\20\\0b\\7f\\939ac9ff785b09951c706150537572c00123412f260a6024f3\n",
      "  Building wheel for pymsgbox (pyproject.toml): started\n",
      "  Building wheel for pymsgbox (pyproject.toml): finished with status 'done'\n",
      "  Created wheel for pymsgbox: filename=PyMsgBox-1.0.9-py3-none-any.whl size=7417 sha256=885a224a611fb7be60d4461d23ff9f8cadca86b8b2cadadf60d80828d1197872\n",
      "  Stored in directory: c:\\users\\sinis\\appdata\\local\\pip\\cache\\wheels\\85\\92\\63\\e126ee5f33d8f2ed04f96e43ef5df7270a2f331848752e8662\n",
      "  Building wheel for pyperclip (setup.py): started\n",
      "  Building wheel for pyperclip (setup.py): finished with status 'done'\n",
      "  Created wheel for pyperclip: filename=pyperclip-1.8.2-py3-none-any.whl size=11136 sha256=2c3f71d79c88f6fe2c934b74292f2383cd8d438453a40f0b9bbf533205c8809a\n",
      "  Stored in directory: c:\\users\\sinis\\appdata\\local\\pip\\cache\\wheels\\70\\bd\\ba\\8ae5c080c895c9360fe6e153acda2dee82527374467eae061b\n",
      "  Building wheel for pyrect (setup.py): started\n",
      "  Building wheel for pyrect (setup.py): finished with status 'done'\n",
      "  Created wheel for pyrect: filename=PyRect-0.2.0-py2.py3-none-any.whl size=11205 sha256=3b265fd7ed065d692632082c40a2613fdfbb4de543fa79b32a5b2dd9275a0015\n",
      "  Stored in directory: c:\\users\\sinis\\appdata\\local\\pip\\cache\\wheels\\c4\\e9\\fc\\b7a666dd4f9a3168fb44d643079b41d36ddab52f470707e820\n",
      "Successfully built pyautogui pygetwindow pyscreeze pytweening mouseinfo pymsgbox pyperclip pyrect\n",
      "Installing collected packages: pytweening, pyrect, pyperclip, pymsgbox, entrypoint2, EasyProcess, pygetwindow, Pillow, mss, mouseinfo, pyscreenshot, pyscreeze, pyautogui\n",
      "Successfully installed EasyProcess-1.1 Pillow-10.1.0 entrypoint2-1.1 mouseinfo-0.1.3 mss-9.0.1 pyautogui-0.9.54 pygetwindow-0.0.9 pymsgbox-1.0.9 pyperclip-1.8.2 pyrect-0.2.0 pyscreenshot-3.1 pyscreeze-0.1.29 pytweening-1.0.7\n"
     ]
    }
   ],
   "source": [
    "pip install pyautogui"
   ]
  },
  {
   "cell_type": "code",
   "execution_count": 22,
   "metadata": {},
   "outputs": [
    {
     "name": "stdout",
     "output_type": "stream",
     "text": [
      "Package                   VersionNote: you may need to restart the kernel to use updated packages.\n",
      "\n",
      "------------------------- ------------\n",
      "altgraph                  0.17.4\n",
      "asttokens                 2.4.0\n",
      "backcall                  0.2.0\n",
      "beautifulsoup4            4.12.2\n",
      "brotlipy                  0.7.0\n",
      "certifi                   2023.7.22\n",
      "cffi                      1.15.1\n",
      "charset-normalizer        2.0.4\n",
      "click                     8.0.4\n",
      "colorama                  0.4.6\n",
      "comm                      0.1.4\n",
      "cryptography              41.0.3\n",
      "debugpy                   1.8.0\n",
      "decorator                 5.1.1\n",
      "EasyProcess               1.1\n",
      "entrypoint2               1.1\n",
      "et-xmlfile                1.1.0\n",
      "executing                 2.0.0\n",
      "Flask                     2.2.2\n",
      "html5lib                  1.1\n",
      "idna                      3.4\n",
      "ipykernel                 6.25.2\n",
      "ipython                   8.16.1\n",
      "itsdangerous              2.0.1\n",
      "jedi                      0.19.1\n",
      "Jinja2                    3.1.2\n",
      "jupyter_client            8.4.0\n",
      "jupyter_core              5.4.0\n",
      "lxml                      4.9.3\n",
      "MarkupSafe                2.1.1\n",
      "matplotlib-inline         0.1.6\n",
      "MouseInfo                 0.1.3\n",
      "mss                       9.0.1\n",
      "nest-asyncio              1.5.8\n",
      "openpyxl                  3.0.10\n",
      "packaging                 23.2\n",
      "parso                     0.8.3\n",
      "pefile                    2023.2.7\n",
      "pickleshare               0.7.5\n",
      "Pillow                    10.1.0\n",
      "pip                       23.3\n",
      "platformdirs              3.11.0\n",
      "prompt-toolkit            3.0.39\n",
      "psutil                    5.9.6\n",
      "pure-eval                 0.2.2\n",
      "PyAutoGUI                 0.9.54\n",
      "pycparser                 2.21\n",
      "PyGetWindow               0.0.9\n",
      "Pygments                  2.16.1\n",
      "pyinstaller               6.1.0\n",
      "pyinstaller-hooks-contrib 2023.10\n",
      "PyMsgBox                  1.0.9\n",
      "pyOpenSSL                 23.2.0\n",
      "pyperclip                 1.8.2\n",
      "PyRect                    0.2.0\n",
      "pyscreenshot              3.1\n",
      "PyScreeze                 0.1.29\n",
      "PySimpleGUI               4.60.5\n",
      "PySocks                   1.7.1\n",
      "python-dateutil           2.8.2\n",
      "python-docx               1.0.1\n",
      "pytweening                1.0.7\n",
      "pytz                      2023.3.post1\n",
      "pywin32                   306\n",
      "pywin32-ctypes            0.2.2\n",
      "pyzmq                     25.1.1\n",
      "requests                  2.31.0\n",
      "selenium                  3.141.0\n",
      "setuptools                68.0.0\n",
      "six                       1.16.0\n",
      "soupsieve                 2.5\n",
      "stack-data                0.6.3\n",
      "tornado                   6.3.3\n",
      "traitlets                 5.11.2\n",
      "typing_extensions         4.8.0\n",
      "urllib3                   1.26.16\n",
      "wcwidth                   0.2.8\n",
      "webencodings              0.5.1\n",
      "Werkzeug                  2.2.3\n",
      "wheel                     0.41.2\n",
      "win-inet-pton             1.1.0\n"
     ]
    }
   ],
   "source": [
    "pip list"
   ]
  },
  {
   "cell_type": "code",
   "execution_count": 24,
   "metadata": {},
   "outputs": [
    {
     "name": "stdout",
     "output_type": "stream",
     "text": [
      "Collecting opencv_python\n",
      "  Downloading opencv_python-4.8.1.78-cp37-abi3-win_amd64.whl.metadata (20 kB)\n",
      "Collecting numpy>=1.21.2 (from opencv_python)\n",
      "  Downloading numpy-1.26.1-cp311-cp311-win_amd64.whl.metadata (61 kB)\n",
      "     ---------------------------------------- 0.0/61.2 kB ? eta -:--:--\n",
      "     -------------------- ------------------- 30.7/61.2 kB 1.4 MB/s eta 0:00:01\n",
      "     ---------------------------------------- 61.2/61.2 kB 1.1 MB/s eta 0:00:00\n",
      "Downloading opencv_python-4.8.1.78-cp37-abi3-win_amd64.whl (38.1 MB)\n",
      "   ---------------------------------------- 0.0/38.1 MB ? eta -:--:--\n",
      "   ---------------------------------------- 0.2/38.1 MB 6.3 MB/s eta 0:00:07\n",
      "    --------------------------------------- 0.5/38.1 MB 6.8 MB/s eta 0:00:06\n",
      "   - -------------------------------------- 1.1/38.1 MB 8.4 MB/s eta 0:00:05\n",
      "   - -------------------------------------- 1.7/38.1 MB 9.6 MB/s eta 0:00:04\n",
      "   -- ------------------------------------- 2.2/38.1 MB 9.9 MB/s eta 0:00:04\n",
      "   -- ------------------------------------- 2.6/38.1 MB 9.7 MB/s eta 0:00:04\n",
      "   --- ------------------------------------ 3.3/38.1 MB 10.6 MB/s eta 0:00:04\n",
      "   ---- ----------------------------------- 3.9/38.1 MB 10.7 MB/s eta 0:00:04\n",
      "   ---- ----------------------------------- 4.4/38.1 MB 10.9 MB/s eta 0:00:04\n",
      "   ---- ----------------------------------- 4.6/38.1 MB 10.9 MB/s eta 0:00:04\n",
      "   ---- ----------------------------------- 4.7/38.1 MB 9.4 MB/s eta 0:00:04\n",
      "   ----- ---------------------------------- 5.5/38.1 MB 10.0 MB/s eta 0:00:04\n",
      "   ------ --------------------------------- 5.7/38.1 MB 9.7 MB/s eta 0:00:04\n",
      "   ------ --------------------------------- 6.2/38.1 MB 9.7 MB/s eta 0:00:04\n",
      "   ------- -------------------------------- 6.7/38.1 MB 9.8 MB/s eta 0:00:04\n",
      "   ------- -------------------------------- 7.1/38.1 MB 9.7 MB/s eta 0:00:04\n",
      "   -------- ------------------------------- 7.7/38.1 MB 9.8 MB/s eta 0:00:04\n",
      "   -------- ------------------------------- 8.3/38.1 MB 10.1 MB/s eta 0:00:03\n",
      "   --------- ------------------------------ 8.9/38.1 MB 10.1 MB/s eta 0:00:03\n",
      "   --------- ------------------------------ 9.4/38.1 MB 10.2 MB/s eta 0:00:03\n",
      "   ---------- ----------------------------- 9.8/38.1 MB 10.1 MB/s eta 0:00:03\n",
      "   ---------- ----------------------------- 10.2/38.1 MB 10.1 MB/s eta 0:00:03\n",
      "   ----------- ---------------------------- 10.7/38.1 MB 10.4 MB/s eta 0:00:03\n",
      "   ----------- ---------------------------- 11.1/38.1 MB 10.4 MB/s eta 0:00:03\n",
      "   ------------ --------------------------- 11.6/38.1 MB 10.2 MB/s eta 0:00:03\n",
      "   ------------ --------------------------- 12.0/38.1 MB 10.1 MB/s eta 0:00:03\n",
      "   ------------ --------------------------- 12.3/38.1 MB 9.9 MB/s eta 0:00:03\n",
      "   ------------- -------------------------- 12.6/38.1 MB 9.8 MB/s eta 0:00:03\n",
      "   ------------- -------------------------- 12.9/38.1 MB 9.6 MB/s eta 0:00:03\n",
      "   ------------- -------------------------- 13.3/38.1 MB 9.4 MB/s eta 0:00:03\n",
      "   -------------- ------------------------- 13.8/38.1 MB 9.4 MB/s eta 0:00:03\n",
      "   -------------- ------------------------- 14.1/38.1 MB 9.1 MB/s eta 0:00:03\n",
      "   --------------- ------------------------ 14.4/38.1 MB 9.0 MB/s eta 0:00:03\n",
      "   --------------- ------------------------ 14.8/38.1 MB 8.8 MB/s eta 0:00:03\n",
      "   --------------- ------------------------ 15.0/38.1 MB 9.4 MB/s eta 0:00:03\n",
      "   ---------------- ----------------------- 15.3/38.1 MB 9.1 MB/s eta 0:00:03\n",
      "   ---------------- ----------------------- 15.7/38.1 MB 8.7 MB/s eta 0:00:03\n",
      "   ---------------- ----------------------- 15.9/38.1 MB 8.6 MB/s eta 0:00:03\n",
      "   ----------------- ---------------------- 16.2/38.1 MB 8.5 MB/s eta 0:00:03\n",
      "   ----------------- ---------------------- 16.4/38.1 MB 8.4 MB/s eta 0:00:03\n",
      "   ----------------- ---------------------- 16.7/38.1 MB 8.4 MB/s eta 0:00:03\n",
      "   ----------------- ---------------------- 17.0/38.1 MB 8.2 MB/s eta 0:00:03\n",
      "   ------------------ --------------------- 17.3/38.1 MB 8.0 MB/s eta 0:00:03\n",
      "   ------------------ --------------------- 17.4/38.1 MB 7.9 MB/s eta 0:00:03\n",
      "   ------------------ --------------------- 17.8/38.1 MB 7.8 MB/s eta 0:00:03\n",
      "   ------------------ --------------------- 18.1/38.1 MB 7.6 MB/s eta 0:00:03\n",
      "   ------------------- -------------------- 18.4/38.1 MB 7.5 MB/s eta 0:00:03\n",
      "   ------------------- -------------------- 18.7/38.1 MB 7.4 MB/s eta 0:00:03\n",
      "   ------------------- -------------------- 19.0/38.1 MB 7.2 MB/s eta 0:00:03\n",
      "   -------------------- ------------------- 19.3/38.1 MB 7.2 MB/s eta 0:00:03\n",
      "   -------------------- ------------------- 19.7/38.1 MB 7.2 MB/s eta 0:00:03\n",
      "   -------------------- ------------------- 19.9/38.1 MB 7.1 MB/s eta 0:00:03\n",
      "   --------------------- ------------------ 20.3/38.1 MB 7.0 MB/s eta 0:00:03\n",
      "   --------------------- ------------------ 20.5/38.1 MB 7.0 MB/s eta 0:00:03\n",
      "   --------------------- ------------------ 20.8/38.1 MB 6.9 MB/s eta 0:00:03\n",
      "   ---------------------- ----------------- 21.0/38.1 MB 6.8 MB/s eta 0:00:03\n",
      "   ---------------------- ----------------- 21.3/38.1 MB 6.6 MB/s eta 0:00:03\n",
      "   ---------------------- ----------------- 21.6/38.1 MB 6.5 MB/s eta 0:00:03\n",
      "   ---------------------- ----------------- 21.8/38.1 MB 6.5 MB/s eta 0:00:03\n",
      "   ----------------------- ---------------- 22.1/38.1 MB 6.5 MB/s eta 0:00:03\n",
      "   ----------------------- ---------------- 22.4/38.1 MB 6.4 MB/s eta 0:00:03\n",
      "   ----------------------- ---------------- 22.7/38.1 MB 6.4 MB/s eta 0:00:03\n",
      "   ------------------------ --------------- 22.9/38.1 MB 6.3 MB/s eta 0:00:03\n",
      "   ------------------------ --------------- 23.1/38.1 MB 6.3 MB/s eta 0:00:03\n",
      "   ------------------------ --------------- 23.4/38.1 MB 6.2 MB/s eta 0:00:03\n",
      "   ------------------------ --------------- 23.7/38.1 MB 6.2 MB/s eta 0:00:03\n",
      "   ------------------------- -------------- 24.0/38.1 MB 6.1 MB/s eta 0:00:03\n",
      "   ------------------------- -------------- 24.2/38.1 MB 6.1 MB/s eta 0:00:03\n",
      "   ------------------------- -------------- 24.5/38.1 MB 6.1 MB/s eta 0:00:03\n",
      "   -------------------------- ------------- 24.8/38.1 MB 6.0 MB/s eta 0:00:03\n",
      "   -------------------------- ------------- 25.1/38.1 MB 6.0 MB/s eta 0:00:03\n",
      "   -------------------------- ------------- 25.4/38.1 MB 6.0 MB/s eta 0:00:03\n",
      "   -------------------------- ------------- 25.6/38.1 MB 6.0 MB/s eta 0:00:03\n",
      "   --------------------------- ------------ 25.9/38.1 MB 6.0 MB/s eta 0:00:03\n",
      "   --------------------------- ------------ 26.2/38.1 MB 6.0 MB/s eta 0:00:02\n",
      "   --------------------------- ------------ 26.4/38.1 MB 6.0 MB/s eta 0:00:02\n",
      "   ---------------------------- ----------- 26.7/38.1 MB 6.0 MB/s eta 0:00:02\n",
      "   ---------------------------- ----------- 27.0/38.1 MB 6.0 MB/s eta 0:00:02\n",
      "   ---------------------------- ----------- 27.2/38.1 MB 6.0 MB/s eta 0:00:02\n",
      "   ---------------------------- ----------- 27.4/38.1 MB 6.0 MB/s eta 0:00:02\n",
      "   ----------------------------- ---------- 27.8/38.1 MB 6.0 MB/s eta 0:00:02\n",
      "   ----------------------------- ---------- 28.0/38.1 MB 6.0 MB/s eta 0:00:02\n",
      "   ----------------------------- ---------- 28.3/38.1 MB 6.0 MB/s eta 0:00:02\n",
      "   ------------------------------ --------- 28.6/38.1 MB 5.9 MB/s eta 0:00:02\n",
      "   ------------------------------ --------- 28.9/38.1 MB 5.9 MB/s eta 0:00:02\n",
      "   ------------------------------ --------- 29.1/38.1 MB 5.9 MB/s eta 0:00:02\n",
      "   ------------------------------ --------- 29.4/38.1 MB 5.9 MB/s eta 0:00:02\n",
      "   ------------------------------- -------- 29.7/38.1 MB 5.8 MB/s eta 0:00:02\n",
      "   ------------------------------- -------- 30.0/38.1 MB 5.8 MB/s eta 0:00:02\n",
      "   ------------------------------- -------- 30.3/38.1 MB 5.9 MB/s eta 0:00:02\n",
      "   -------------------------------- ------- 30.6/38.1 MB 5.8 MB/s eta 0:00:02\n",
      "   -------------------------------- ------- 30.8/38.1 MB 5.9 MB/s eta 0:00:02\n",
      "   -------------------------------- ------- 31.1/38.1 MB 5.8 MB/s eta 0:00:02\n",
      "   -------------------------------- ------- 31.4/38.1 MB 5.8 MB/s eta 0:00:02\n",
      "   --------------------------------- ------ 31.7/38.1 MB 5.8 MB/s eta 0:00:02\n",
      "   --------------------------------- ------ 31.9/38.1 MB 5.8 MB/s eta 0:00:02\n",
      "   --------------------------------- ------ 32.2/38.1 MB 5.9 MB/s eta 0:00:01\n",
      "   ---------------------------------- ----- 32.5/38.1 MB 5.8 MB/s eta 0:00:01\n",
      "   ---------------------------------- ----- 32.8/38.1 MB 5.8 MB/s eta 0:00:01\n",
      "   ---------------------------------- ----- 33.0/38.1 MB 5.8 MB/s eta 0:00:01\n",
      "   ---------------------------------- ----- 33.2/38.1 MB 5.9 MB/s eta 0:00:01\n",
      "   ----------------------------------- ---- 33.5/38.1 MB 5.9 MB/s eta 0:00:01\n",
      "   ----------------------------------- ---- 33.8/38.1 MB 5.9 MB/s eta 0:00:01\n",
      "   ----------------------------------- ---- 34.0/38.1 MB 5.9 MB/s eta 0:00:01\n",
      "   ------------------------------------ --- 34.3/38.1 MB 5.9 MB/s eta 0:00:01\n",
      "   ------------------------------------ --- 34.6/38.1 MB 5.9 MB/s eta 0:00:01\n",
      "   ------------------------------------ --- 34.9/38.1 MB 5.8 MB/s eta 0:00:01\n",
      "   ------------------------------------ --- 35.0/38.1 MB 5.8 MB/s eta 0:00:01\n",
      "   ------------------------------------ --- 35.1/38.1 MB 5.7 MB/s eta 0:00:01\n",
      "   ------------------------------------- -- 35.3/38.1 MB 5.6 MB/s eta 0:00:01\n",
      "   ------------------------------------- -- 35.4/38.1 MB 5.5 MB/s eta 0:00:01\n",
      "   ------------------------------------- -- 35.5/38.1 MB 5.5 MB/s eta 0:00:01\n",
      "   ------------------------------------- -- 35.7/38.1 MB 5.5 MB/s eta 0:00:01\n",
      "   ------------------------------------- -- 35.9/38.1 MB 5.4 MB/s eta 0:00:01\n",
      "   -------------------------------------- - 36.2/38.1 MB 5.4 MB/s eta 0:00:01\n",
      "   -------------------------------------- - 36.4/38.1 MB 5.4 MB/s eta 0:00:01\n",
      "   -------------------------------------- - 36.8/38.1 MB 5.4 MB/s eta 0:00:01\n",
      "   ---------------------------------------  37.2/38.1 MB 5.5 MB/s eta 0:00:01\n",
      "   ---------------------------------------  37.7/38.1 MB 5.6 MB/s eta 0:00:01\n",
      "   ---------------------------------------  38.1/38.1 MB 5.7 MB/s eta 0:00:01\n",
      "   ---------------------------------------  38.1/38.1 MB 5.7 MB/s eta 0:00:01\n",
      "   ---------------------------------------  38.1/38.1 MB 5.7 MB/s eta 0:00:01\n",
      "   ---------------------------------------  38.1/38.1 MB 5.7 MB/s eta 0:00:01\n",
      "   ---------------------------------------- 38.1/38.1 MB 5.2 MB/s eta 0:00:00\n",
      "Downloading numpy-1.26.1-cp311-cp311-win_amd64.whl (15.8 MB)\n",
      "   ---------------------------------------- 0.0/15.8 MB ? eta -:--:--\n",
      "   - -------------------------------------- 0.5/15.8 MB 15.2 MB/s eta 0:00:02\n",
      "   -- ------------------------------------- 1.0/15.8 MB 13.1 MB/s eta 0:00:02\n",
      "   --- ------------------------------------ 1.6/15.8 MB 12.5 MB/s eta 0:00:02\n",
      "   ----- ---------------------------------- 2.1/15.8 MB 11.9 MB/s eta 0:00:02\n",
      "   ------ --------------------------------- 2.5/15.8 MB 11.5 MB/s eta 0:00:02\n",
      "   ------- -------------------------------- 2.9/15.8 MB 10.7 MB/s eta 0:00:02\n",
      "   -------- ------------------------------- 3.3/15.8 MB 10.6 MB/s eta 0:00:02\n",
      "   --------- ------------------------------ 3.8/15.8 MB 10.6 MB/s eta 0:00:02\n",
      "   ----------- ---------------------------- 4.4/15.8 MB 10.7 MB/s eta 0:00:02\n",
      "   ------------ --------------------------- 4.9/15.8 MB 10.8 MB/s eta 0:00:02\n",
      "   ------------- -------------------------- 5.5/15.8 MB 11.0 MB/s eta 0:00:01\n",
      "   --------------- ------------------------ 5.9/15.8 MB 10.8 MB/s eta 0:00:01\n",
      "   ---------------- ----------------------- 6.6/15.8 MB 11.0 MB/s eta 0:00:01\n",
      "   ----------------- ---------------------- 7.1/15.8 MB 11.0 MB/s eta 0:00:01\n",
      "   ------------------- -------------------- 7.6/15.8 MB 11.1 MB/s eta 0:00:01\n",
      "   -------------------- ------------------- 8.0/15.8 MB 10.9 MB/s eta 0:00:01\n",
      "   --------------------- ------------------ 8.4/15.8 MB 10.8 MB/s eta 0:00:01\n",
      "   --------------------- ------------------ 8.7/15.8 MB 10.7 MB/s eta 0:00:01\n",
      "   ---------------------- ----------------- 9.1/15.8 MB 10.3 MB/s eta 0:00:01\n",
      "   ------------------------ --------------- 9.5/15.8 MB 10.3 MB/s eta 0:00:01\n",
      "   ------------------------ --------------- 9.8/15.8 MB 10.1 MB/s eta 0:00:01\n",
      "   ------------------------- -------------- 10.2/15.8 MB 10.1 MB/s eta 0:00:01\n",
      "   --------------------------- ------------ 10.8/15.8 MB 10.1 MB/s eta 0:00:01\n",
      "   ---------------------------- ----------- 11.4/15.8 MB 10.1 MB/s eta 0:00:01\n",
      "   ----------------------------- ---------- 11.7/15.8 MB 9.9 MB/s eta 0:00:01\n",
      "   ------------------------------ --------- 12.1/15.8 MB 9.8 MB/s eta 0:00:01\n",
      "   ------------------------------- -------- 12.4/15.8 MB 9.6 MB/s eta 0:00:01\n",
      "   -------------------------------- ------- 12.7/15.8 MB 9.5 MB/s eta 0:00:01\n",
      "   --------------------------------- ------ 13.1/15.8 MB 9.5 MB/s eta 0:00:01\n",
      "   ---------------------------------- ----- 13.7/15.8 MB 9.6 MB/s eta 0:00:01\n",
      "   ----------------------------------- ---- 14.1/15.8 MB 9.6 MB/s eta 0:00:01\n",
      "   ------------------------------------ --- 14.6/15.8 MB 9.5 MB/s eta 0:00:01\n",
      "   -------------------------------------- - 15.0/15.8 MB 9.6 MB/s eta 0:00:01\n",
      "   ---------------------------------------  15.5/15.8 MB 9.6 MB/s eta 0:00:01\n",
      "   ---------------------------------------  15.8/15.8 MB 9.5 MB/s eta 0:00:01\n",
      "   ---------------------------------------  15.8/15.8 MB 9.5 MB/s eta 0:00:01\n",
      "   ---------------------------------------  15.8/15.8 MB 9.5 MB/s eta 0:00:01\n",
      "   ---------------------------------------- 15.8/15.8 MB 8.4 MB/s eta 0:00:00\n",
      "Installing collected packages: numpy, opencv_python\n",
      "Successfully installed numpy-1.26.1 opencv_python-4.8.1.78\n",
      "Note: you may need to restart the kernel to use updated packages.\n"
     ]
    }
   ],
   "source": [
    "pip install opencv_python"
   ]
  },
  {
   "cell_type": "markdown",
   "metadata": {},
   "source": [
    "windowsのメモ帳を起動して、Hello,Python!と文字を書き込むプログラム"
   ]
  },
  {
   "cell_type": "code",
   "execution_count": 35,
   "metadata": {},
   "outputs": [],
   "source": [
    "import time, subprocess, platform\n",
    "import pyautogui as pa\n",
    "\n",
    "message = 'Hello,Python!'\n",
    "if platform.system() == 'Windows':\n",
    "    subprocess.Popen(r'c:\\Windows\\notepad.exe')\n",
    "    time.sleep(10)\n",
    "\n",
    "pa.write(message)"
   ]
  }
 ],
 "metadata": {
  "kernelspec": {
   "display_name": "jidou",
   "language": "python",
   "name": "python3"
  },
  "language_info": {
   "codemirror_mode": {
    "name": "ipython",
    "version": 3
   },
   "file_extension": ".py",
   "mimetype": "text/x-python",
   "name": "python",
   "nbconvert_exporter": "python",
   "pygments_lexer": "ipython3",
   "version": "3.11.5"
  }
 },
 "nbformat": 4,
 "nbformat_minor": 2
}
