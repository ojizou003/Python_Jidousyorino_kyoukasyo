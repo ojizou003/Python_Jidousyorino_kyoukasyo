{
  "cells": [
    {
      "cell_type": "markdown",
      "metadata": {
        "id": "sAcolns5piUk"
      },
      "source": [
        "# 「シゴトがはかどるPython自動処理の教科書」 クジラ飛行机 著\n",
        "\n",
        "2023/10/16 ~ 10/23  \n",
        "\n"
      ]
    },
    {
      "cell_type": "markdown",
      "metadata": {
        "id": "Yudkgc6apkBo"
      },
      "source": [
        "## Pythonで仕事を自動化しよう\n",
        "\n"
      ]
    },
    {
      "cell_type": "markdown",
      "metadata": {
        "id": "THfSBnsxtki3"
      },
      "source": [
        "Python ..1991年 オランダ出身のグイド・ヴァンロッサム氏が開発"
      ]
    },
    {
      "cell_type": "markdown",
      "metadata": {
        "id": "ppByhj5KxPsL"
      },
      "source": [
        "### 日時計算"
      ]
    },
    {
      "cell_type": "markdown",
      "metadata": {
        "id": "hNHrJO6M80Lw"
      },
      "source": [
        "**今何時か？調べる**"
      ]
    },
    {
      "cell_type": "code",
      "execution_count": null,
      "metadata": {
        "id": "ZeaTHI3-x06Q"
      },
      "outputs": [],
      "source": [
        "from datetime import datetime #datetimeモジュールのdatetimeオブジェクトをインポート\n",
        "from pytz import timezone #googleColabは世界標準時間なのでタイムゾーン変換オブジェクトをインポート\n"
      ]
    },
    {
      "cell_type": "code",
      "execution_count": null,
      "metadata": {
        "colab": {
          "base_uri": "https://localhost:8080/"
        },
        "id": "AGkZ9XGPyPg4",
        "outputId": "465ec76d-b582-44e9-cc10-1166cfbdd3a2"
      },
      "outputs": [],
      "source": [
        "#現在日時を取得\n",
        "now = datetime.now()\n",
        "now = now.astimezone(timezone('Asia/Tokyo')) #タイムゾーンを東京に修正\n",
        "print(now)"
      ]
    },
    {
      "cell_type": "code",
      "execution_count": null,
      "metadata": {
        "colab": {
          "base_uri": "https://localhost:8080/"
        },
        "id": "IHIBOi2MyZyg",
        "outputId": "c58642d5-f8ed-49c7-8f0f-92252ff0646c"
      },
      "outputs": [],
      "source": [
        "fmnow =now.strftime('%Y年%m月%d日 %H時%M分%S秒')\n",
        "print(fmnow)"
      ]
    },
    {
      "cell_type": "markdown",
      "metadata": {
        "id": "38dKG5cm0P2k"
      },
      "source": [
        "**あと何日？を調べる**  \n",
        "    2025年4月13日に大阪で国際博覧会が開催予定です。  \n",
        "    今日から何日後でしょうか？"
      ]
    },
    {
      "cell_type": "code",
      "execution_count": null,
      "metadata": {
        "id": "fjVnu6JD8v6e"
      },
      "outputs": [],
      "source": [
        "yoteibi = datetime(2025, 4, 13)\n",
        "now = datetime.now()\n",
        "\n",
        "delta = yoteibi - now\n",
        "print(f'あと{str(delta.days+1)}日です。')"
      ]
    },
    {
      "cell_type": "markdown",
      "metadata": {},
      "source": [
        "**あと何秒？を調べる**  \n",
        "22時に就寝し、翌日の朝8時半に起きる"
      ]
    },
    {
      "cell_type": "code",
      "execution_count": null,
      "metadata": {},
      "outputs": [],
      "source": [
        "sleep_t = datetime(2023, 10 , 17, 22, 0, 0)\n",
        "wakeup_t = datetime(2023, 10, 18, 8, 30, 0)\n",
        "\n",
        "delta = wakeup_t - sleep_t\n",
        "print(f'あと{delta.seconds}秒、眠れる。')\n",
        "print(f'あと{delta.seconds/3600}時間、眠れる。')"
      ]
    },
    {
      "cell_type": "markdown",
      "metadata": {},
      "source": [
        "**日後を調べる**  \n",
        "2025年2月27日の3日後は何月何日？"
      ]
    },
    {
      "cell_type": "code",
      "execution_count": null,
      "metadata": {},
      "outputs": [],
      "source": [
        "from datetime import timedelta\n",
        "\n",
        "base_day = datetime(2025, 2, 27)\n",
        "y_day = base_day + timedelta(days = 3)\n",
        "print(y_day.strftime('%m月%d日'))"
      ]
    },
    {
      "cell_type": "markdown",
      "metadata": {},
      "source": [
        "## Excel作業を自動化しよう"
      ]
    },
    {
      "cell_type": "markdown",
      "metadata": {},
      "source": [
        "**Excelファイルの作成**"
      ]
    },
    {
      "cell_type": "code",
      "execution_count": null,
      "metadata": {},
      "outputs": [],
      "source": [
        "import openpyxl as excel\n",
        "\n",
        "wb = excel.Workbook()\n",
        "ws = wb.active\n",
        "\n",
        "ws[\"a1\"] = \"こんにちは\"\n",
        "wb.save(\"excel/hello.xlsx\")"
      ]
    },
    {
      "cell_type": "markdown",
      "metadata": {},
      "source": [
        "**Excelファイルの読み込み**"
      ]
    },
    {
      "cell_type": "code",
      "execution_count": null,
      "metadata": {},
      "outputs": [],
      "source": [
        "wb = excel.load_workbook(\"hello.xlsx\")\n",
        "ws = wb.worksheets[0]\n",
        "cell = ws[\"a1\"]\n",
        "print(cell.value)"
      ]
    },
    {
      "cell_type": "markdown",
      "metadata": {},
      "source": [
        "**Excelシートに書き込む3つの方法**"
      ]
    },
    {
      "cell_type": "markdown",
      "metadata": {},
      "source": [
        "- セル名を指定して値を設定  \n",
        "  ws['a1'] = 'こんにちは'\n"
      ]
    },
    {
      "cell_type": "markdown",
      "metadata": {},
      "source": [
        "- 行番号と列番号を指定して値を設定  \n",
        "  ws.cell(row=1, column=1, value='')"
      ]
    },
    {
      "cell_type": "markdown",
      "metadata": {},
      "source": [
        "- 先に任意のセルを取得し、セルに値を設定する方法  \n",
        "  cell = ws.cell(row =1, column=1)\n",
        "  cell.value = 'こんにちは'"
      ]
    },
    {
      "cell_type": "code",
      "execution_count": null,
      "metadata": {},
      "outputs": [],
      "source": [
        "ws['a1'] = '勤勉な人の計画は必ず成功する'\n",
        "ws.cell(row=2, column=1, value='猿の尻笑い')\n",
        "cell = ws.cell(row=3, column=1)\n",
        "cell.value = '捜すのに時があり諦めるのに時がある'\n",
        "\n",
        "wb.save('excel/cell_w.xlsx')"
      ]
    },
    {
      "cell_type": "markdown",
      "metadata": {},
      "source": [
        "**連続で値を書き込んでみよう**"
      ]
    },
    {
      "cell_type": "code",
      "execution_count": null,
      "metadata": {},
      "outputs": [],
      "source": [
        "for i in range(10):\n",
        "    ws.cell(row=i+1, column=1, value=i)\n",
        "\n",
        "wb.save('excel/renzoku.xlsx')"
      ]
    },
    {
      "cell_type": "markdown",
      "metadata": {},
      "source": [
        "**九九の表を作ってみよう**"
      ]
    },
    {
      "cell_type": "code",
      "execution_count": null,
      "metadata": {},
      "outputs": [],
      "source": [
        "wb = excel.Workbook()\n",
        "ws = wb.active\n",
        "\n",
        "for i in range(1,10):\n",
        "    for j in range(1,10):\n",
        "        ws.cell(row=i, column=j, value=i*j)\n",
        "\n",
        "wb.save('excel/9x9.xlsx')"
      ]
    },
    {
      "cell_type": "markdown",
      "metadata": {},
      "source": [
        "**九九の表を改良して20x20の表にしよう**"
      ]
    },
    {
      "cell_type": "code",
      "execution_count": null,
      "metadata": {},
      "outputs": [],
      "source": [
        "wb = excel.Workbook()\n",
        "ws = wb.active\n",
        "\n",
        "for i in range(1, 21):\n",
        "    for j in range(1, 21):\n",
        "        ws.cell(row=i, column=j, value=i*j)\n",
        "\n",
        "wb.save('excel/20x20.xlsx')"
      ]
    },
    {
      "cell_type": "markdown",
      "metadata": {},
      "source": [
        "**セル名の入った表を作ろう**"
      ]
    },
    {
      "cell_type": "code",
      "execution_count": null,
      "metadata": {},
      "outputs": [],
      "source": [
        "wb = excel.Workbook()\n",
        "ws = wb.active\n",
        "\n",
        "for i in range(1, 101):\n",
        "    for j in range (1, 101):\n",
        "        wc = ws.cell(row=i, column=j) #予約語をセル名に使わない\n",
        "        wc.value = wc.coordinate #セル名\n",
        "\n",
        "wb.save('excel/test100.xlsx')"
      ]
    },
    {
      "cell_type": "markdown",
      "metadata": {},
      "source": [
        "**Excelシート自動生成のアイデア**"
      ]
    },
    {
      "cell_type": "markdown",
      "metadata": {},
      "source": [
        "**年齢生年対応表を作ってみよう**"
      ]
    },
    {
      "cell_type": "code",
      "execution_count": null,
      "metadata": {},
      "outputs": [],
      "source": [
        "from datetime import date\n",
        "\n",
        "wb = excel.Workbook()\n",
        "ws = wb.active\n",
        "\n",
        "this_year = date.today().year\n",
        "\n",
        "for i in range(101):\n",
        "    age_c = ws.cell(i+1,1)\n",
        "    age_c.value = f'{i}才'\n",
        "    birth_c = ws.cell(i+1,2)\n",
        "    birth_c.value = f'{this_year-i}年'\n",
        "\n",
        "wb.save('excel/agelist.xlsx')"
      ]
    },
    {
      "cell_type": "markdown",
      "metadata": {},
      "source": [
        "**小学校入学年度を計算**"
      ]
    },
    {
      "cell_type": "code",
      "execution_count": null,
      "metadata": {},
      "outputs": [],
      "source": [
        "wb = excel.Workbook()\n",
        "ws = wb.active\n",
        "\n",
        "this_year = date.today().year\n",
        "nyugaku_birthyear = this_year-7\n",
        "\n",
        "for i in range(50):\n",
        "    nendo_c = ws.cell(i+1,1)\n",
        "    nyugaku_c = ws.cell(i+1,2)\n",
        "    nendo_c.value = f'{this_year+i}年度'\n",
        "    nyugaku_c.value = f'{nyugaku_birthyear+i}年4月2日生まれ～{nyugaku_birthyear+i+1}年4月1日生まれ'\n",
        "\n",
        "wb.save('excel/nyugaku_list.xlsx')"
      ]
    },
    {
      "cell_type": "markdown",
      "metadata": {},
      "source": [
        "**西暦和暦の対応表を作ってみよう**"
      ]
    },
    {
      "cell_type": "code",
      "execution_count": null,
      "metadata": {},
      "outputs": [],
      "source": [
        "wareki_table = [{'name': '明治', 'start': 1868, 'end': 1912},\n",
        "                {'name': '大正', 'start': 1912, 'end': 1926},\n",
        "                {'name': '昭和', 'start': 1926, 'end': 1989},\n",
        "                {'name': '平成', 'start': 1989, 'end': 2019},\n",
        "                {'name': '令和', 'start': 2019, 'end': 9999},]\n",
        "\n",
        "# 西暦和暦変換関数を定義\n",
        "def seireki_wareki(year):\n",
        "    for w in wareki_table:\n",
        "        if w['start'] <= year < w['end']:\n",
        "            y = year-w[\"start\"]+1\n",
        "            if y == 1:\n",
        "                y = '元'\n",
        "            return f'{w[\"name\"]}{y}年'\n",
        "    else:\n",
        "            return '不明'\n",
        "\n",
        "wb = excel.Workbook()\n",
        "ws = wb.active\n",
        "\n",
        "#ヘッダー\n",
        "ws['a1'] = '西暦'\n",
        "ws['b1'] = '和暦'\n",
        "\n",
        "start_y = 1930\n",
        "for i in range(100):\n",
        "     sei = start_y + i\n",
        "     wa = seireki_wareki(sei)\n",
        "     ws.cell(i+1,1,value=str(sei)+'年')\n",
        "     ws.cell(i+1,2,value=wa)\n",
        "\n",
        "wb.save('excel/wareki.xlsx')"
      ]
    },
    {
      "cell_type": "markdown",
      "metadata": {},
      "source": [
        "**Excelの数式と組み合わせてみよう**"
      ]
    },
    {
      "cell_type": "code",
      "execution_count": null,
      "metadata": {},
      "outputs": [],
      "source": [
        "wb = excel.Workbook()\n",
        "ws = wb.active\n",
        "\n",
        "ws['a1'] = '2023/01/01'\n",
        "ws['b1'] = '=TEXT(a1,\"ggge年m月d日\")'\n",
        "wb.save('excel/susiki.xlsx')\n"
      ]
    },
    {
      "cell_type": "markdown",
      "metadata": {},
      "source": [
        "**西暦和暦対応表(Excel機能利用版)**"
      ]
    },
    {
      "cell_type": "code",
      "execution_count": null,
      "metadata": {},
      "outputs": [],
      "source": [
        "wb = excel.Workbook()\n",
        "ws = wb.active\n",
        "\n",
        "ws['a1'] = '西暦'\n",
        "ws['b1'] = '和暦'\n",
        "\n",
        "start_y = 1930\n",
        "for i in range(100):\n",
        "    sei = str(start_y+i)\n",
        "    wa = f'=TEXT(\"{sei}/1/1\",\"ggge年\")'\n",
        "    ws.cell(i+2,1,value=sei+'年')\n",
        "    ws.cell(i+2,2,value=wa)\n",
        "\n",
        "wb.save('excel/wareki2.xlsx')"
      ]
    },
    {
      "cell_type": "markdown",
      "metadata": {},
      "source": [
        "**Excelシートを連続で読み込もう**"
      ]
    },
    {
      "cell_type": "markdown",
      "metadata": {},
      "source": [
        "excel/test100.xlsxから「H2」のセルを取り出して表示する"
      ]
    },
    {
      "cell_type": "code",
      "execution_count": null,
      "metadata": {},
      "outputs": [],
      "source": [
        "wb = excel.load_workbook('excel/test100.xlsx')\n",
        "# ws = wb.worksheets[0]\n",
        "ws = wb.active\n",
        "print(ws['h2'].value)\n",
        "print(ws.cell(2,8).value)"
      ]
    },
    {
      "cell_type": "markdown",
      "metadata": {},
      "source": [
        "**連続したデータを取得する**"
      ]
    },
    {
      "cell_type": "markdown",
      "metadata": {},
      "source": [
        "b2からd4までの範囲のデータを取得して表示"
      ]
    },
    {
      "cell_type": "code",
      "execution_count": null,
      "metadata": {},
      "outputs": [],
      "source": [
        "range = ws['b2:d4']\n",
        "for row in range:\n",
        "    # l = []\n",
        "    # for cell in row:\n",
        "    #     l.append(cell.value)\n",
        "    # print(l)\n",
        "    print([cell.value for cell in row])"
      ]
    },
    {
      "cell_type": "markdown",
      "metadata": {},
      "source": [
        "イテレータを利用して繰り返し指定範囲を取得する方法"
      ]
    },
    {
      "cell_type": "code",
      "execution_count": null,
      "metadata": {},
      "outputs": [],
      "source": [
        "#イテレータを取得\n",
        "it = ws.iter_rows(min_row=2,min_col=2,max_row=4,max_col=4)\n",
        "\n",
        "for row in it:\n",
        "    l = []\n",
        "    for cell in row:\n",
        "        l.append(cell.value)\n",
        "    print(l)"
      ]
    },
    {
      "cell_type": "code",
      "execution_count": null,
      "metadata": {},
      "outputs": [],
      "source": [
        "cell = ws['b5']\n",
        "print(cell.row, cell.column)"
      ]
    },
    {
      "cell_type": "code",
      "execution_count": null,
      "metadata": {},
      "outputs": [],
      "source": [
        "cell = ws.cell(5,2)\n",
        "print(cell.coordinate)"
      ]
    },
    {
      "cell_type": "code",
      "execution_count": null,
      "metadata": {},
      "outputs": [],
      "source": [
        "ws['b5'] == ws.cell(5,2)"
      ]
    },
    {
      "cell_type": "markdown",
      "metadata": {},
      "source": [
        "**Excelシートのデータ抽出テクニック**"
      ]
    },
    {
      "cell_type": "markdown",
      "metadata": {},
      "source": [
        "**売上データ一覧から請求先と金額を抜き出してみよう**"
      ]
    },
    {
      "cell_type": "markdown",
      "metadata": {},
      "source": [
        "ワークシートの全データ[a3:f9]の取得"
      ]
    },
    {
      "cell_type": "code",
      "execution_count": null,
      "metadata": {},
      "outputs": [],
      "source": [
        "wb = excel.load_workbook('excel/uriage.xlsx',data_only=True)\n",
        "ws = wb.worksheets[0]\n",
        "\n",
        "range = ws['a3:f9']\n",
        "for row in range:\n",
        "    l = []\n",
        "    for cell in row:\n",
        "        l.append(cell.value)\n",
        "    print(l)\n"
      ]
    },
    {
      "cell_type": "markdown",
      "metadata": {},
      "source": [
        "**Excelで複数ブックとシートを操作しよう**"
      ]
    },
    {
      "cell_type": "markdown",
      "metadata": {},
      "source": [
        "シートを100枚作り、そのうち1枚を当たりとする"
      ]
    },
    {
      "cell_type": "code",
      "execution_count": 7,
      "metadata": {},
      "outputs": [
        {
          "name": "stdout",
          "output_type": "stream",
          "text": [
            "ok,atari= 69\n"
          ]
        }
      ],
      "source": [
        "import random as rd\n",
        "import openpyxl as excel\n",
        "\n",
        "#当たりを決める\n",
        "atari = rd.randint(1,100)\n",
        "\n",
        "#新規ブックを作成\n",
        "wb = excel.Workbook()\n",
        "wb.active[\"b2\"] = \"当たりが書かれたシートを探そう\"\n",
        "\n",
        "#繰り返し100回シートを作成する\n",
        "for i in range(100):\n",
        "    sname = str(i) + '番'\n",
        "    ws = wb.create_sheet(title = sname)\n",
        "    word = 'ハズレ'\n",
        "    if i == atari:\n",
        "        word = '当たり'\n",
        "    for j in range(50):\n",
        "        for k in range(30):\n",
        "            c = ws.cell(j+1,k+1)\n",
        "            c.value = word\n",
        "\n",
        "wb.save('excel/game100.xlsx')\n",
        "print('ok,atari=',atari)"
      ]
    },
    {
      "cell_type": "markdown",
      "metadata": {},
      "source": [
        "**２つのブックを行き来して何度もコピー＆ペースト**"
      ]
    },
    {
      "cell_type": "markdown",
      "metadata": {},
      "source": [
        "顧客一覧のブックから見込み客だけを別のブックにコピーする"
      ]
    },
    {
      "cell_type": "code",
      "execution_count": 11,
      "metadata": {},
      "outputs": [],
      "source": [
        "wb = excel.load_workbook('excel/all-customer.xlsx')\n",
        "ws = wb['名簿']\n",
        "\n",
        "customers = [['名前', '住所', '購入プラン']]\n",
        "\n",
        "for row in ws.iter_rows(min_row=3):\n",
        "    values = [v.value for v in row]\n",
        "    if values[0] is None:\n",
        "        break\n",
        "    area = values[1]\n",
        "    if area =='横浜市' or area =='名古屋市':\n",
        "        customers.append(values)\n",
        "\n",
        "nwb = excel.Workbook()\n",
        "nws = nwb.active\n",
        "nws['a1'] = '横浜と名古屋の顧客名簿'\n",
        "\n",
        "for row, row_val in enumerate(customers):\n",
        "    for col, val in enumerate(row_val):\n",
        "        c = nws.cell(row+2,col+1)\n",
        "        c.value = val\n",
        "\n",
        "nwb.save('excel/yokohama_nagoya.xlsx')\n"
      ]
    },
    {
      "cell_type": "markdown",
      "metadata": {},
      "source": [
        "顧客をプランごとに別のシートに分ける"
      ]
    },
    {
      "cell_type": "code",
      "execution_count": 18,
      "metadata": {},
      "outputs": [],
      "source": [
        "for row in ws.iter_rows(min_row=3):\n",
        "    cells = [v.value for v in row]\n",
        "    if cells[0] is None:\n",
        "        break\n",
        "    (name, area, plan) = cells\n",
        "\n",
        "    sname = plan + 'プラン'\n",
        "    if sname not in wb.sheetnames:\n",
        "        to_sheet = wb.create_sheet(title = sname)\n",
        "        to_sheet.append(['名前', '住所', 'プラン'])\n",
        "    else:\n",
        "        to_sheet = wb[sname]\n",
        "    to_sheet.append(cells)\n",
        "\n",
        "wb.save('excel/split_sheet.xlsx')"
      ]
    },
    {
      "cell_type": "markdown",
      "metadata": {},
      "source": [
        "Excelの書式や罫線を設定しよう"
      ]
    },
    {
      "cell_type": "markdown",
      "metadata": {},
      "source": [
        "表示形式の指定は、number_format"
      ]
    },
    {
      "cell_type": "code",
      "execution_count": 20,
      "metadata": {},
      "outputs": [],
      "source": [
        "import openpyxl as xl\n",
        "wb = xl.Workbook()\n",
        "ws = wb.active\n",
        "\n",
        "val = 3.14159\n",
        "ws.append([val, val, val])\n",
        "\n",
        "ws['a1'].number_format = '0'\n",
        "ws['b1'].number_format = '0.00'\n",
        "ws['c1'].number_format = '0.0000'\n",
        "\n",
        "wb.save('excel/number_format.xlsx')"
      ]
    },
    {
      "cell_type": "code",
      "execution_count": 21,
      "metadata": {},
      "outputs": [],
      "source": [
        "wb = xl.Workbook()\n",
        "ws = wb.active\n",
        "\n",
        "def set_cell(cname, value, fmt):\n",
        "    c = ws[cname]\n",
        "    c.value = value\n",
        "    c.number_format = fmt\n",
        "\n",
        "keta3_fmt = '#,##0'\n",
        "ws['a1'] = keta3_fmt\n",
        "set_cell('b1',12345, keta3_fmt)\n",
        "set_cell('c1', 123456789, keta3_fmt)\n",
        "\n",
        "cur_fmt = '\"¥\"#,##0;\"¥\"\\\\-#,##0'\n",
        "ws['a2'] = cur_fmt\n",
        "set_cell('b2',12345, cur_fmt)\n",
        "set_cell('c2', -12345, cur_fmt)\n",
        "\n",
        "num_fmt = '#,##0;[red]\"△\"#,##0'\n",
        "ws['a3'] = num_fmt\n",
        "set_cell('b3',12345, num_fmt)\n",
        "set_cell('c3', -12345, num_fmt)\n",
        "\n",
        "wb.save('excel/number_format2.xlsx')"
      ]
    },
    {
      "cell_type": "markdown",
      "metadata": {},
      "source": [
        "**日時フォーマットを指定しよう**"
      ]
    },
    {
      "cell_type": "code",
      "execution_count": 23,
      "metadata": {},
      "outputs": [],
      "source": [
        "import datetime\n",
        "\n",
        "wb = xl.Workbook()\n",
        "ws = wb.active\n",
        "\n",
        "dt = datetime.datetime(year=2023, month=4, day=5, hour=11, minute=22, second=33)\n",
        "ws.append([dt, dt, dt, dt])\n",
        "\n",
        "ws['a1'].number_format = 'yyyy/mm/dd'\n",
        "ws['b1'].number_format = 'yyyy年mm月dd日'\n",
        "ws['c1'].number_format = 'hh:mm:ss'\n",
        "ws['d1'].number_format = 'mm/dd hh:mm:ss'\n",
        "\n",
        "wb.save('excel/number_format_datetime.xlsx')\n"
      ]
    },
    {
      "cell_type": "markdown",
      "metadata": {},
      "source": [
        "**セルの各種スタイルの設定**"
      ]
    },
    {
      "cell_type": "code",
      "execution_count": 25,
      "metadata": {},
      "outputs": [],
      "source": [
        "wb = xl.Workbook()\n",
        "ws = wb.active\n",
        "\n",
        "# 横幅を指定\n",
        "ws.column_dimensions['b'].width = 40\n",
        "# 高さを指定\n",
        "ws.row_dimensions[2].height = 40\n",
        "\n",
        "c = ws['b2']\n",
        "c.value = '喜びにあふれた心は良い薬'\n",
        "\n",
        "# テキスト配置の指定\n",
        "from openpyxl.styles.alignment import Alignment as al\n",
        "\n",
        "c.alignment = al(horizontal='center',vertical='center')\n",
        "\n",
        "# 罫線の指定\n",
        "from openpyxl.styles.borders import Border, Side\n",
        "c.border = Border(\n",
        "    top=Side(style='thin', color='000000'),\n",
        "    right=Side(style='thin', color='000000'),\n",
        "    bottom=Side(style='thin', color='000000'),\n",
        "    left=Side(style='thin', color='000000')\n",
        ")\n",
        "\n",
        "# フォントの指定\n",
        "from openpyxl.styles import Font\n",
        "c.font = Font(\n",
        "    size=14,\n",
        "    bold=True,\n",
        "    italic=True,\n",
        "    color='FFFFFF'\n",
        ")\n",
        "\n",
        "# 背景色の指定\n",
        "from openpyxl.styles import PatternFill\n",
        "c.fill = PatternFill(\n",
        "    fill_type='solid',\n",
        "    fgColor='FF0000'\n",
        ")\n",
        "\n",
        "wb.save('excel/style.xlsx')"
      ]
    }
  ],
  "metadata": {
    "colab": {
      "provenance": []
    },
    "kernelspec": {
      "display_name": "Python 3",
      "name": "python3"
    },
    "language_info": {
      "codemirror_mode": {
        "name": "ipython",
        "version": 3
      },
      "file_extension": ".py",
      "mimetype": "text/x-python",
      "name": "python",
      "nbconvert_exporter": "python",
      "pygments_lexer": "ipython3",
      "version": "3.11.5"
    }
  },
  "nbformat": 4,
  "nbformat_minor": 0
}
