{
 "cells": [
  {
   "cell_type": "markdown",
   "metadata": {},
   "source": [
    "# 「シゴトがはかどるPython自動処理の教科書」 クジラ飛行机 著 (つづき)\n",
    "## Excelの高度な作業も自動化しよう"
   ]
  },
  {
   "cell_type": "markdown",
   "metadata": {},
   "source": [
    "**Excelテンプレートを活用しよう**"
   ]
  },
  {
   "cell_type": "code",
   "execution_count": 3,
   "metadata": {},
   "outputs": [],
   "source": [
    "# テンプレートから請求書を作成\n",
    "template_file = 'excel_chap3/invoice-template.xlsx'\n",
    "\n",
    "# 保存ファイル\n",
    "save_file = f'excel_chap3/imvoice_{name}.xlsx'\n",
    "\n",
    "# 設定するデータ\n",
    "name = '田中一郎'\n",
    "subject = '１月分のご請求'\n",
    "items = [ #内訳\n",
    "['りんご', 5, 320],\n",
    "['バナナ', 8, 210],\n",
    "['メロン', 1, 1200]\n",
    "]\n",
    "\n",
    "import openpyxl as xl\n",
    "wb = xl.load_workbook(template_file)\n",
    "ws = wb.active\n",
    "\n",
    "ws['b4'] = name\n",
    "ws['c10'] = subject\n",
    "total = 0\n",
    "for i, it in enumerate(items):\n",
    "    summary, count, price = it\n",
    "    subtotal = count * price\n",
    "    total += subtotal\n",
    "    row_ = 15 + i\n",
    "    ws.cell(row_, 2, summary)\n",
    "    ws.cell(row_, 5, count)\n",
    "    ws.cell(row_, 6, price)\n",
    "    ws.cell(row_, 7, subtotal)\n",
    "ws['c11'] = total\n",
    "\n",
    "wb.save(save_file)\n"
   ]
  },
  {
   "cell_type": "code",
   "execution_count": 4,
   "metadata": {},
   "outputs": [
    {
     "name": "stdout",
     "output_type": "stream",
     "text": [
      "0 = ラーメン\n",
      "1 = 寿司\n",
      "2 = 天ぷら\n"
     ]
    }
   ],
   "source": [
    "# enumerateの動作確認\n",
    "food = ['ラーメン', '寿司', '天ぷら']\n",
    "for i, v in enumerate(food):\n",
    "    print(i, '=', v)"
   ]
  },
  {
   "cell_type": "markdown",
   "metadata": {},
   "source": [
    "**複数ファイル処理--売上データから請求書を作成しよう**  \n",
    "globモジュールの使い方"
   ]
  },
  {
   "cell_type": "markdown",
   "metadata": {},
   "source": [
    "**Step1. 複数のExcelファイルを読み込む**"
   ]
  },
  {
   "cell_type": "code",
   "execution_count": 20,
   "metadata": {},
   "outputs": [
    {
     "name": "stdout",
     "output_type": "stream",
     "text": [
      "['excel_chap3\\\\imvoice_田中一郎.xlsx', 'excel_chap3\\\\invoice-template.xlsx']\n",
      "['check.bat', 'check.py', 'Python_Jidousyorino_Kyoukasyo_1.ipynb', 'Python_Jidousyorino_Kyoukasyo_2.ipynb', 'README.md']\n"
     ]
    }
   ],
   "source": [
    "# globモジュールの動作確認\n",
    "import glob\n",
    "files = glob.glob('excel_chap3/*.xlsx')\n",
    "print(files)\n",
    "files_2 = glob.glob('*.*')\n",
    "print(files_2)"
   ]
  },
  {
   "cell_type": "code",
   "execution_count": 24,
   "metadata": {},
   "outputs": [
    {
     "name": "stdout",
     "output_type": "stream",
     "text": [
      "['excel_chap3/salesbooks\\\\sales-inoue.xlsx', 'excel_chap3/salesbooks\\\\sales-kakei.xlsx', 'excel_chap3/salesbooks\\\\sales-ooda.xlsx', 'excel_chap3/salesbooks\\\\sales-tanaka.xlsx', 'excel_chap3/salesbooks\\\\sales-yamda.xlsx']\n",
      "read: excel_chap3/salesbooks\\sales-inoue.xlsx\n",
      "[datetime.datetime(2020, 3, 1, 0, 0), '小島 重吉', 'ミカン', 2, 2500, 5000]\n",
      "[datetime.datetime(2020, 3, 2, 0, 0), '伊藤 次郎', 'リンゴ', 1, 1500, 1500]\n",
      "[datetime.datetime(2020, 3, 3, 0, 0), '西川 三郎', 'ミカン', 3, 2500, 7500]\n",
      "[datetime.datetime(2020, 3, 15, 0, 0), '山田 史朗', 'ミカン', 4, 2500, 10000]\n",
      "[datetime.datetime(2020, 3, 16, 0, 0), '小島 重吉', 'リンゴ', 2, 1500, 3000]\n",
      "[datetime.datetime(2020, 3, 17, 0, 0), '山田 史朗', 'ブドウ', 2, 3000, 6000]\n",
      "[datetime.datetime(2020, 3, 22, 0, 0), '小島 重吉', 'ブドウ', 2, 3000, 6000]\n",
      "read: excel_chap3/salesbooks\\sales-kakei.xlsx\n",
      "[datetime.datetime(2020, 3, 6, 0, 0), '上田 祐輝', '醤油', 20, 1500, 30000]\n",
      "[datetime.datetime(2020, 3, 11, 0, 0), '松山 竜兵', 'ソース', 2, 1500, 3000]\n",
      "[datetime.datetime(2020, 3, 20, 0, 0), '上田 祐輝', '味噌', 8, 950, 7600]\n",
      "[datetime.datetime(2020, 3, 21, 0, 0), '松山 竜兵', '醤油', 10, 1500, 15000]\n",
      "read: excel_chap3/salesbooks\\sales-ooda.xlsx\n",
      "[datetime.datetime(2020, 3, 6, 0, 0), '鈴木 太郎', 'ミカンゼリー', 20, 1500, 30000]\n",
      "[datetime.datetime(2020, 3, 11, 0, 0), '伊藤 次郎', '桃ゼリー', 2, 1500, 3000]\n",
      "[datetime.datetime(2020, 3, 20, 0, 0), '西川 三郎', 'ミカンゼリー', 8, 950, 7600]\n",
      "[datetime.datetime(2020, 3, 21, 0, 0), '松山 竜兵', '桃ゼリー', 10, 1500, 15000]\n",
      "read: excel_chap3/salesbooks\\sales-tanaka.xlsx\n",
      "[datetime.datetime(2020, 3, 3, 0, 0), '上田 祐輝', '豆腐', 4, 1000, 4000]\n",
      "[datetime.datetime(2020, 3, 5, 0, 0), '松山 竜兵', '豆腐', 1, 1000, 1000]\n",
      "[datetime.datetime(2020, 3, 5, 0, 0), '大内 圭人', '湯葉', 1, 2000, 2000]\n",
      "[datetime.datetime(2020, 3, 7, 0, 0), '上田 祐輝', '大豆セット', 2, 2000, 4000]\n",
      "[datetime.datetime(2020, 3, 15, 0, 0), '松山 竜兵', '小豆', 1, 1000, 1000]\n",
      "[datetime.datetime(2020, 3, 16, 0, 0), '大内 圭人', '豆腐', 4, 1000, 4000]\n",
      "[datetime.datetime(2020, 3, 20, 0, 0), '松山 竜兵', '小豆', 5, 1000, 5000]\n",
      "read: excel_chap3/salesbooks\\sales-yamda.xlsx\n",
      "[datetime.datetime(2020, 3, 3, 0, 0), '鈴木 太郎', 'バナナ', 3, 1000, 3000]\n",
      "[datetime.datetime(2020, 3, 5, 0, 0), '伊藤 次郎', 'リンゴ', 2, 1500, 3000]\n",
      "[datetime.datetime(2020, 3, 5, 0, 0), '西川 三郎', 'イチゴ', 2, 2000, 4000]\n",
      "[datetime.datetime(2020, 3, 7, 0, 0), '山田 史朗', 'バナナ', 8, 1000, 8000]\n",
      "[datetime.datetime(2020, 3, 15, 0, 0), '伊藤 次郎', 'リンゴ', 2, 1500, 3000]\n",
      "[datetime.datetime(2020, 3, 16, 0, 0), '山田 史朗', 'イチゴ', 5, 2000, 10000]\n",
      "[datetime.datetime(2020, 3, 20, 0, 0), '山下 五郎', 'マンゴー', 3, 1900, 5700]\n"
     ]
    }
   ],
   "source": [
    "import openpyxl as xl\n",
    "import glob\n",
    "\n",
    "target_dir = 'excel_chap3/salesbooks/'\n",
    "save_file = 'excel_chap3/matome.xlsx'\n",
    "\n",
    "def read_files():\n",
    "    wb = xl.Workbook()\n",
    "    main_sheet = wb.active\n",
    "    enumfiles(main_sheet)\n",
    "    wb.save(save_file)\n",
    "\n",
    "def enumfiles(main_sheet):\n",
    "    files = glob.glob(target_dir + '*.xlsx')\n",
    "    print(files)\n",
    "    for fname in files:\n",
    "        read_book(main_sheet, fname)\n",
    "\n",
    "def read_book(main_sheet, fname):\n",
    "    print('read:',fname)\n",
    "    wb = xl.load_workbook(fname, data_only=True)\n",
    "    ws = wb.active\n",
    "    rows = ws['a4:f999']\n",
    "    for row in rows:\n",
    "        values = [cell.value for cell in row]\n",
    "        if values[0] is None:\n",
    "            break\n",
    "        print(values)\n",
    "        main_sheet.append(values)\n",
    "\n",
    "if __name__ == '__main__':\n",
    "    read_files()\n"
   ]
  },
  {
   "cell_type": "markdown",
   "metadata": {},
   "source": [
    "**Step2. データを顧客ごとに分けて集計しよう**"
   ]
  },
  {
   "cell_type": "code",
   "execution_count": 26,
   "metadata": {},
   "outputs": [
    {
     "name": "stdout",
     "output_type": "stream",
     "text": [
      "{'伊藤': [['伊藤', 300], ['伊藤', 600], ['伊藤', 200]], '田中': [['田中', 300], ['田中', 200]]}\n",
      "[['伊藤', 300], ['伊藤', 600], ['伊藤', 200]]\n",
      "伊藤 1100\n",
      "[['田中', 300], ['田中', 200]]\n",
      "田中 500\n"
     ]
    }
   ],
   "source": [
    "dummy_data = [\n",
    "    ['伊藤', 300],\n",
    "    ['伊藤', 600],\n",
    "    ['伊藤', 200],\n",
    "    ['田中', 300],\n",
    "    ['田中', 200]\n",
    "]\n",
    "# 顧客名をキーに辞書型に分割\n",
    "users = {}\n",
    "for row in dummy_data:\n",
    "    name, value = row # 変数に分ける\n",
    "    # 顧客名が初出ならリストを初期化\n",
    "    if name not in users:\n",
    "        users[name] = []\n",
    "    # 顧客名をキーにして値にデータを追記\n",
    "    users[name].append(row)\n",
    "print(users)\n",
    "# 顧客ごとに集計\n",
    "for name,rows in users.items():\n",
    "    print(rows) # 集計対象を表示\n",
    "    total = 0\n",
    "    for row in rows:\n",
    "        total += row[1]\n",
    "    print(name,total) #結果を表示"
   ]
  },
  {
   "cell_type": "code",
   "execution_count": 29,
   "metadata": {},
   "outputs": [
    {
     "name": "stdout",
     "output_type": "stream",
     "text": [
      "小島 重吉 14000\n",
      "伊藤 次郎 10500\n",
      "西川 三郎 19100\n",
      "山田 史朗 34000\n",
      "上田 祐輝 45600\n",
      "松山 竜兵 40000\n",
      "鈴木 太郎 33000\n",
      "大内 圭人 6000\n",
      "山下 五郎 5700\n"
     ]
    }
   ],
   "source": [
    "import openpyxl as xl, json\n",
    "\n",
    "in_file = 'excel_chap3/matome.xlsx'\n",
    "out_file = 'excel_chap3/matome.json'\n",
    "\n",
    "def split_list():\n",
    "    users = read_and_split(in_file)\n",
    "    result = {}\n",
    "    for name, rows in users.items():\n",
    "        result[name] = calc_user(rows)\n",
    "        print(name, result[name]['total'])\n",
    "    with open(out_file, 'wt') as fp:\n",
    "        json.dump(result, fp)\n",
    "\n",
    "def read_and_split(in_file):\n",
    "    users = {}\n",
    "    ws = xl.load_workbook(in_file).active\n",
    "    for row in ws.iter_rows():\n",
    "        values = [col.value for col in row]\n",
    "        name = values[1]\n",
    "        if name not in users:\n",
    "            users[name] = []\n",
    "        users[name].append(values)\n",
    "    return users\n",
    "\n",
    "def calc_user(rows):\n",
    "    total = 0\n",
    "    items = []\n",
    "    for row in rows:\n",
    "        date, _, item, cnt, price, _ = row \n",
    "        date_s = date.strftime('%m%d')\n",
    "        items.append([date_s, item, cnt, price])\n",
    "        total += cnt * price\n",
    "    return {'items':items, 'total':total}\n",
    "\n",
    "if __name__ == '__main__':\n",
    "    split_list()"
   ]
  },
  {
   "cell_type": "markdown",
   "metadata": {},
   "source": [
    "**Step3. 顧客ごとに請求書を発行しよう**"
   ]
  },
  {
   "cell_type": "code",
   "execution_count": 34,
   "metadata": {},
   "outputs": [
    {
     "name": "stdout",
     "output_type": "stream",
     "text": [
      "save:  excel_chap3/invoice02/小島 重吉様.xlsx\n",
      "save:  excel_chap3/invoice02/伊藤 次郎様.xlsx\n",
      "save:  excel_chap3/invoice02/西川 三郎様.xlsx\n",
      "save:  excel_chap3/invoice02/山田 史朗様.xlsx\n",
      "save:  excel_chap3/invoice02/上田 祐輝様.xlsx\n",
      "save:  excel_chap3/invoice02/松山 竜兵様.xlsx\n",
      "save:  excel_chap3/invoice02/鈴木 太郎様.xlsx\n",
      "save:  excel_chap3/invoice02/大内 圭人様.xlsx\n",
      "save:  excel_chap3/invoice02/山下 五郎様.xlsx\n"
     ]
    }
   ],
   "source": [
    "import openpyxl as xl, json\n",
    "\n",
    "in_file = 'excel_chap3/matome.json'\n",
    "out_dir = 'excel_chap3/invoice02/'\n",
    "template_file = 'excel_chap3/invoice-template.xlsx'\n",
    "subject = '２月分のご請求'\n",
    "\n",
    "# メイン処理\n",
    "def gen_invoice():\n",
    "    with open(in_file, 'rt') as fp:\n",
    "        users = json.load(fp)\n",
    "    for name, data in users.items():\n",
    "        make_user_invoice(name, data)\n",
    "\n",
    "# テンプレートにデータを流し込む\n",
    "def make_user_invoice(name, data):\n",
    "    wb = xl.load_workbook(template_file)\n",
    "    ws = wb.active\n",
    "    ws['b4'] = name\n",
    "    ws['c10'] = subject\n",
    "    ws['c11'] = data['total']\n",
    "    for i, it in enumerate(data['items']):\n",
    "        date, summary, cnt, price = it\n",
    "        row = i +15\n",
    "        ws.cell(row, 2, summary + '('+date+')')\n",
    "        ws.cell(row, 5, cnt)\n",
    "        ws.cell(row, 6, price)\n",
    "        ws.cell(row, 7, cnt*price)\n",
    "    out_file = out_dir + name + '様.xlsx'\n",
    "    wb.save(out_file)\n",
    "    print('save: ', out_file)\n",
    "\n",
    "if __name__ == '__main__':\n",
    "    gen_invoice()"
   ]
  },
  {
   "cell_type": "code",
   "execution_count": 35,
   "metadata": {},
   "outputs": [
    {
     "name": "stdout",
     "output_type": "stream",
     "text": [
      "C:\\Users\\sinis\\programming\\08_Python\\Python_Jidousyorino_kyoukasyo\n"
     ]
    }
   ],
   "source": [
    "import os\n",
    "cd = os.getcwd()\n",
    "print(cd)"
   ]
  },
  {
   "cell_type": "markdown",
   "metadata": {},
   "source": [
    "**Excelシートを整形しよう**"
   ]
  },
  {
   "cell_type": "markdown",
   "metadata": {},
   "source": [
    "**日付形式を西暦から和暦に変更しよう**"
   ]
  },
  {
   "cell_type": "code",
   "execution_count": 37,
   "metadata": {},
   "outputs": [
    {
     "data": {
      "text/plain": [
       "'yyyy\"年\"m\"月\"d\"日\";@'"
      ]
     },
     "execution_count": 37,
     "metadata": {},
     "output_type": "execute_result"
    }
   ],
   "source": [
    "wb = xl.load_workbook('excel_chap3/date-sample.xlsx')\n",
    "ws = wb.active\n",
    "ws['a4'].number_format"
   ]
  },
  {
   "cell_type": "code",
   "execution_count": 39,
   "metadata": {},
   "outputs": [
    {
     "data": {
      "text/plain": [
       "datetime.datetime"
      ]
     },
     "execution_count": 39,
     "metadata": {},
     "output_type": "execute_result"
    }
   ],
   "source": [
    "type(ws['a4'].value)"
   ]
  },
  {
   "cell_type": "code",
   "execution_count": 66,
   "metadata": {},
   "outputs": [],
   "source": [
    "import openpyxl as xl\n",
    "import datetime\n",
    "\n",
    "in_file = 'excel_chap3/date-sample.xlsx'\n",
    "out_file ='excel_chap3/date-wareki.xlsx'\n",
    "cell_format = 'ggge\"年\"m\"月\"d\"日\"'\n",
    "\n",
    "def date_wareki(in_file,out_file):\n",
    "    wb = xl.load_workbook(in_file)\n",
    "    for ws in wb.worksheets: # 全シートを確認\n",
    "        for row in ws.iter_rows(): # 全行を確認\n",
    "            for c in row: #全セルを確認\n",
    "                check_cell(c)\n",
    "    wb.save(out_file)\n",
    "\n",
    "def check_cell(c):\n",
    "    if type(c.value) == datetime.datetime:\n",
    "        c.number_format = cell_format\n",
    "\n",
    "\n",
    "if __name__ == '__main__':\n",
    "    date_wareki(in_file, out_file)"
   ]
  },
  {
   "cell_type": "markdown",
   "metadata": {},
   "source": [
    "**条件付き書式を使わずに任意のセルに色をつけよう**"
   ]
  },
  {
   "cell_type": "markdown",
   "metadata": {},
   "source": [
    "2020年1月1日より前に仕入れた在庫を赤色で強調表示する"
   ]
  },
  {
   "cell_type": "code",
   "execution_count": 69,
   "metadata": {},
   "outputs": [],
   "source": [
    "import openpyxl as xl\n",
    "from openpyxl.styles import PatternFill\n",
    "import datetime\n",
    "\n",
    "in_file = 'excel_chap3/date-sample.xlsx'\n",
    "out_file = 'excel_chap3/date-mark_oldtimes.xlsx'\n",
    "limit = datetime.datetime(2020, 1, 1)\n",
    "\n",
    "# メイン処理\n",
    "def date_mark(in_file, out_file):\n",
    "    wb = xl.load_workbook(in_file)\n",
    "    for ws in wb.worksheets:\n",
    "        for r in ws.iter_rows(min_row=4):\n",
    "            check_row(r)\n",
    "    wb.save(out_file)\n",
    "# 指定行をチェック\n",
    "def check_row(r):\n",
    "    date = r[0].value\n",
    "    if type(date) is not datetime.datetime:\n",
    "        return\n",
    "    if date < limit:\n",
    "        red = PatternFill(\n",
    "            fill_type='solid',\n",
    "            fgColor='ff0000'\n",
    "        )\n",
    "        for c in r:\n",
    "            c.fill = red\n",
    "\n",
    "if __name__ == '__main__':\n",
    "    date_mark(in_file, out_file)"
   ]
  },
  {
   "cell_type": "markdown",
   "metadata": {},
   "source": [
    "**姓と名に分かれた名前フィールドを一つにまとめよう**"
   ]
  },
  {
   "cell_type": "code",
   "execution_count": 70,
   "metadata": {},
   "outputs": [],
   "source": [
    "import openpyxl as xl\n",
    "\n",
    "in_file = 'excel_chap3/name2.xlsx'\n",
    "out_file = 'excel_chap3/name_conbine.xlsx'\n",
    "\n",
    "in_wb = xl.load_workbook(in_file)\n",
    "in_ws = in_wb.worksheets[0]\n",
    "\n",
    "out_wb = xl.Workbook()\n",
    "out_ws = out_wb.active\n",
    "\n",
    "for r in in_ws.iter_rows():\n",
    "    sei = r[0].value\n",
    "    na = r[1].value\n",
    "    seimei = sei + ' ' + na\n",
    "    out_ws.append([seimei])\n",
    "out_wb.save(out_file)"
   ]
  },
  {
   "cell_type": "markdown",
   "metadata": {},
   "source": [
    "**名前フィールドを姓と名に分割しよう**"
   ]
  },
  {
   "cell_type": "code",
   "execution_count": 71,
   "metadata": {},
   "outputs": [],
   "source": [
    "import openpyxl as xl\n",
    "\n",
    "in_file = 'excel_chap3/name1.xlsx'\n",
    "out_file = 'excel_chap3/name_split.xlsx'\n",
    "\n",
    "wb = xl.load_workbook(in_file)\n",
    "ws = wb.worksheets[0]\n",
    "out_wb = xl.Workbook()\n",
    "out_ws = out_wb.active\n",
    "\n",
    "for r in ws.iter_rows():\n",
    "    seimei = r[0].value\n",
    "    sei, na = seimei.split(' ')\n",
    "    out_ws.append([sei, na])\n",
    "out_wb.save(out_file)"
   ]
  },
  {
   "cell_type": "markdown",
   "metadata": {},
   "source": [
    "**ExcelとWordを連携しよう\n",
    "-- python-docxのインストール**"
   ]
  },
  {
   "cell_type": "markdown",
   "metadata": {},
   "source": [
    "Word文書内のテキストを抜き出す"
   ]
  },
  {
   "cell_type": "code",
   "execution_count": 1,
   "metadata": {},
   "outputs": [
    {
     "name": "stdout",
     "output_type": "stream",
     "text": [
      "2021年10月10日\n",
      "●●●御中\n",
      "■■■様\n",
      "〒333-0000\n",
      "東京都新宿区△△△\n",
      "△△△ビル\n",
      "△△凸凹\n",
      "Tel: 03-xxx-xxxx\n",
      "\n",
      "\n",
      "★★★の送付について\n",
      "\n",
      "\n",
      "拝啓　ますますご健勝のことと存じます。平素は格別のご厚情にあずかり心より御礼申し上げます。いつも大変お世話になっております。\n",
      "\n",
      "この度、書類を送付させていただきます。ご多忙の中、恐れ入りますが、どうぞご確認のほど、よろしくお願いします。\n",
      "\n",
      "敬具\n",
      "\n"
     ]
    }
   ],
   "source": [
    "import docx\n",
    "\n",
    "doc = docx.Document('doc_chap3/letter.docx')\n",
    "for p in doc.paragraphs:\n",
    "    print(p.text)"
   ]
  },
  {
   "cell_type": "markdown",
   "metadata": {},
   "source": [
    "**Wordのテンプレートを活用しよう**"
   ]
  },
  {
   "cell_type": "code",
   "execution_count": 2,
   "metadata": {},
   "outputs": [],
   "source": [
    "import docx\n",
    "import datetime\n",
    "\n",
    "template_file = 'doc_chap3/letter.docx'\n",
    "save_file = 'doc_chap3/letter-suzuki.docx'\n",
    "now = datetime.datetime.now()\n",
    "\n",
    "card ={\n",
    "    '2021年10月10日': now.strftime('%Y年%m月%d日'),\n",
    "    '●●●御中': 'マイナビ出版御中',\n",
    "    '■■■様': '鈴木様',\n",
    "    '★★★の送付について': '契約書の送付について'\n",
    "}\n",
    "\n",
    "doc = docx.Document(template_file)\n",
    "for p in doc.paragraphs:\n",
    "    for k, v in card.items():\n",
    "        if p.text.find(k) >= 0:\n",
    "            p.text = p.text.replace(k, v)\n",
    "doc.save(save_file)"
   ]
  },
  {
   "cell_type": "markdown",
   "metadata": {},
   "source": [
    "**Wordに書式を設定しよう**"
   ]
  },
  {
   "cell_type": "code",
   "execution_count": 3,
   "metadata": {},
   "outputs": [],
   "source": [
    "import docx\n",
    "import datetime\n",
    "\n",
    "template_file = 'doc_chap3/letter.docx'\n",
    "save_file = 'doc_chap3/letter-suzuki2.docx'\n",
    "now = datetime.datetime.now()\n",
    "\n",
    "card ={\n",
    "    '2021年10月10日': now.strftime('%Y年%m月%d日'),\n",
    "    '●●●御中': 'マイナビ出版御中',\n",
    "    '■■■様': '鈴木様',\n",
    "    '★★★の送付について': '契約書の送付について'\n",
    "}\n",
    "cstyle = {\n",
    "    '★★★の送付について': True\n",
    "}\n",
    "\n",
    "doc = docx.Document(template_file)\n",
    "for p in doc.paragraphs:\n",
    "    for k, v in card.items():\n",
    "        if p.text.find(k) >= 0:\n",
    "            p.text = p.text.replace(k, v)\n",
    "            if k in cstyle:\n",
    "                font = p.runs[0].font\n",
    "                font.bold = True\n",
    "                font.underline = True\n",
    "                font.size = docx.shared.Pt(20)\n",
    "doc.save(save_file)"
   ]
  },
  {
   "cell_type": "markdown",
   "metadata": {},
   "source": [
    "**ExcelとWordの連携 --顧客名簿を元に案内状を作成**"
   ]
  },
  {
   "cell_type": "code",
   "execution_count": 7,
   "metadata": {},
   "outputs": [
    {
     "name": "stdout",
     "output_type": "stream",
     "text": [
      "2021年10月10日\n",
      " \n",
      " 新商品イベントのご案内  \n",
      "〒333-0000\n",
      "東京都新宿区△△△△\n",
      "△△凸凹\n",
      "Tel: 03-xxx-xxxx\n",
      "\n",
      "住所：▲▲▲\n",
      "●●様へ\n",
      "\n",
      "拝啓　ますますご健勝のことと存じます。平素は格別のご厚情にあずかり心より御礼申し上げます。いつも大変お世話になっております。\n",
      "\n",
      "今回、下記日程でイベントを開催することになり、案内状を送らせていただきます。素晴らしい商品を取りそろえております。\n",
      "\n",
      "簡単なプレゼントも用意しています。お客様のご来場、お待ちしております。どうぞ、よろしくお願いします。\n",
      "\n",
      "\n",
      "敬具\n",
      "\n"
     ]
    }
   ],
   "source": [
    "doc = docx.Document('doc_chap3/template-event.docx')\n",
    "for p in doc.paragraphs:\n",
    "    print(p.text)"
   ]
  },
  {
   "cell_type": "code",
   "execution_count": 9,
   "metadata": {},
   "outputs": [
    {
     "name": "stdout",
     "output_type": "stream",
     "text": [
      "save:  doc_chap3/events/松野 厚志様.docx\n",
      "save:  doc_chap3/events/奥田 仁様.docx\n",
      "save:  doc_chap3/events/坂本 一郎様.docx\n",
      "save:  doc_chap3/events/榊原 純一様.docx\n",
      "save:  doc_chap3/events/黒田 智一様.docx\n",
      "save:  doc_chap3/events/小倉 義男様.docx\n",
      "save:  doc_chap3/events/湯浅 良平様.docx\n",
      "save:  doc_chap3/events/堀 裕二様.docx\n",
      "save:  doc_chap3/events/清水 源太様.docx\n",
      "save:  doc_chap3/events/向井 卓哉様.docx\n",
      "save:  doc_chap3/events/星 康弘様.docx\n",
      "save:  doc_chap3/events/金子 順吉様.docx\n",
      "save:  doc_chap3/events/大川 斗真様.docx\n",
      "save:  doc_chap3/events/関 晋也様.docx\n",
      "save:  doc_chap3/events/平野 豊様.docx\n",
      "save:  doc_chap3/events/大西 健介様.docx\n",
      "save:  doc_chap3/events/花田 健二様.docx\n",
      "save:  doc_chap3/events/神谷 正様.docx\n",
      "save:  doc_chap3/events/谷川 隼人様.docx\n"
     ]
    }
   ],
   "source": [
    "import openpyxl as xl, docx, os\n",
    "\n",
    "in_file = 'doc_chap3/meibo.xlsx'\n",
    "template_file = 'doc_chap3/template-event.docx'\n",
    "save_dir = os.path.join(\n",
    "    # os.path.dirname(__file__),\n",
    "    'doc_chap3/',\n",
    "    'events/'\n",
    ")\n",
    "\n",
    "if not os.path.exists(save_dir):\n",
    "    os.mkdir(save_dir)\n",
    "\n",
    "def read_book():\n",
    "    result = []\n",
    "    ws = xl.load_workbook(in_file).active\n",
    "    for r in ws.iter_rows(min_row=2):\n",
    "        v = [c.value for c in r]\n",
    "        if v[0] is None:\n",
    "            break\n",
    "        result.append(v)\n",
    "    return result\n",
    "\n",
    "for person in read_book():\n",
    "    name, zipno, addr = person\n",
    "    card = {\n",
    "        '住所：▲▲▲': addr,\n",
    "        '●●様へ': name + '様へ'\n",
    "    }\n",
    "    doc = docx.Document('doc_chap3/template-event.docx')\n",
    "    for p in doc.paragraphs:\n",
    "        for k, v in card.items():\n",
    "            if p.text.find(k) >= 0:\n",
    "                p.text = p.text.replace(k, v)\n",
    "                p.runs[0].font.bold = True\n",
    "    save_file = os.path.join(save_dir,\n",
    "                             name + '様.docx')\n",
    "    print('save: ', save_file)\n",
    "    doc.save(save_file)"
   ]
  },
  {
   "cell_type": "markdown",
   "metadata": {},
   "source": [
    "**CSVとExcelの連携**"
   ]
  },
  {
   "cell_type": "code",
   "execution_count": 10,
   "metadata": {},
   "outputs": [
    {
     "name": "stdout",
     "output_type": "stream",
     "text": [
      "[['商品名', ' 値段', ' 個数', ' 小計'],\n",
      " ['リンゴ', '300', ' 3', ' 900'],\n",
      " ['バナナ', '200', ' 5', ' 1000'],\n",
      " ['イチゴ', '800', '2', '1600']]\n"
     ]
    }
   ],
   "source": [
    "import csv, pprint\n",
    "\n",
    "with open('csv_chap3/items.csv', encoding='sjis') as f:\n",
    "    text = f.read().strip()\n",
    "    lines = text.split(\"\\n\")\n",
    "    data = [v.split(',') for v in lines]\n",
    "    pprint.pprint(data)"
   ]
  },
  {
   "cell_type": "code",
   "execution_count": 13,
   "metadata": {},
   "outputs": [
    {
     "name": "stdout",
     "output_type": "stream",
     "text": [
      "[['商品名', ' 値段', ' 個数', ' 小計'],\n",
      " ['リンゴ', '300', ' 3', ' 900'],\n",
      " ['バナナ', '200', ' 5', ' 1000'],\n",
      " ['イチゴ', '800', '2', '1600']]\n"
     ]
    }
   ],
   "source": [
    "import csv, pprint\n",
    "\n",
    "with open('csv_chap3/items.csv', encoding='sjis') as f:\n",
    "    reader = csv.reader(f)\n",
    "    data = [row for row in reader]\n",
    "    pprint.pprint(data)"
   ]
  },
  {
   "cell_type": "markdown",
   "metadata": {},
   "source": [
    "**改行やカンマを含むCSVデータを扱う**"
   ]
  },
  {
   "cell_type": "code",
   "execution_count": 15,
   "metadata": {},
   "outputs": [
    {
     "name": "stdout",
     "output_type": "stream",
     "text": [
      "リンゴ\"食べ頃\"セット 500 5 1500\n",
      "果物セットA(バナナ,リンゴ) 1000 5 5000\n",
      "果物セットB(イチゴ,メロン) 2000 2 4000\n",
      "合計:  10500 円\n"
     ]
    }
   ],
   "source": [
    "import csv\n",
    "\n",
    "with open('csv_chap3/items2.csv', encoding='sjis') as f:\n",
    "    reader = csv.reader(f)\n",
    "    head = next(reader) #ヘッダ行をスキップ\n",
    "    total = 0\n",
    "    for r in reader:\n",
    "        name, price, cnt, subtotal = r\n",
    "        print(name,price,cnt,subtotal)\n",
    "        total += int(subtotal)\n",
    "    print('合計: ',total, '円')\n"
   ]
  },
  {
   "cell_type": "markdown",
   "metadata": {},
   "source": [
    "**TSVデータを読みたい場合**"
   ]
  },
  {
   "cell_type": "code",
   "execution_count": 2,
   "metadata": {},
   "outputs": [
    {
     "name": "stdout",
     "output_type": "stream",
     "text": [
      "['商品名', '値段', '個数', '小計']\n",
      "['リンゴ\"食べ頃\"セット', '500', '5', '1500']\n",
      "['果物セットA(バナナ,リンゴ)', '1000', '5', '5000']\n",
      "['果物セットB(イチゴ,メロン)', '2000', '2', '4000']\n"
     ]
    }
   ],
   "source": [
    "import csv\n",
    "\n",
    "with open('csv_chap3/items3.tsv', encoding='utf-8') as f:\n",
    "    reader = csv.reader(f, delimiter='\\t')\n",
    "    for row in reader:\n",
    "        print(row)"
   ]
  },
  {
   "cell_type": "markdown",
   "metadata": {},
   "source": [
    "**CSVを読んでExcelシートに書き込もう**"
   ]
  },
  {
   "cell_type": "markdown",
   "metadata": {},
   "source": [
    "ラベルシート作成"
   ]
  },
  {
   "cell_type": "code",
   "execution_count": 4,
   "metadata": {},
   "outputs": [],
   "source": [
    "import csv, openpyxl as xl\n",
    "\n",
    "in_file = 'csv_chap3/meibo.csv'\n",
    "template_file = 'csv_chap3/card-template.xlsx'\n",
    "save_file = 'csv_chap3/card-meibo.xlsx'\n",
    "# csvの読み込み\n",
    "def read_csv(fname):\n",
    "    with open(in_file, encoding='sjis') as f:\n",
    "        reader = csv.reader(f)\n",
    "        next(reader) #ヘッダを読み飛ばす\n",
    "        return[v for v in reader]\n",
    "# Excelの読み込み\n",
    "wb = xl.load_workbook(template_file)\n",
    "ws_tp1 = wb.worksheets[0]\n",
    "# csvから顧客一覧を得て一人ずつ処理\n",
    "for i, person in enumerate(read_csv(in_file)):\n",
    "    name, zipno, addr = person\n",
    "    idx = i % 10\n",
    "    if idx == 0:\n",
    "        ws = wb.copy_worksheet(ws_tp1)\n",
    "        ws.title = 'Page' + str(idx)\n",
    "    row = 4 * (idx % 5) + 2\n",
    "    col = 2 * (idx // 5) + 2\n",
    "    ws.cell(row = row+0, column = col, value = name)\n",
    "    ws.cell(row = row+1, column = col, value = zipno)\n",
    "    ws.cell(row = row+2, column = col, value = addr)\n",
    "# テンプレートのシートを削除して保存\n",
    "wb.remove(ws_tp1)\n",
    "wb.save(save_file)"
   ]
  },
  {
   "cell_type": "markdown",
   "metadata": {},
   "source": [
    "**ExcelファイルをPDFで出力しよう**"
   ]
  },
  {
   "cell_type": "markdown",
   "metadata": {},
   "source": [
    "pywin32は、操作するソフト（ExcelやWord）が実際にインストールされている必要がある"
   ]
  }
 ],
 "metadata": {
  "kernelspec": {
   "display_name": "jidou",
   "language": "python",
   "name": "python3"
  },
  "language_info": {
   "codemirror_mode": {
    "name": "ipython",
    "version": 3
   },
   "file_extension": ".py",
   "mimetype": "text/x-python",
   "name": "python",
   "nbconvert_exporter": "python",
   "pygments_lexer": "ipython3",
   "version": "3.11.5"
  }
 },
 "nbformat": 4,
 "nbformat_minor": 2
}
